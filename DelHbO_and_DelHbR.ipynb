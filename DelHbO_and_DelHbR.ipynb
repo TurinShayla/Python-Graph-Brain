{
  "nbformat": 4,
  "nbformat_minor": 0,
  "metadata": {
    "colab": {
      "provenance": [],
      "authorship_tag": "ABX9TyMStAQ1IjmK+iksRAzV3Mld",
      "include_colab_link": true
    },
    "kernelspec": {
      "name": "python3",
      "display_name": "Python 3"
    },
    "language_info": {
      "name": "python"
    }
  },
  "cells": [
    {
      "cell_type": "markdown",
      "metadata": {
        "id": "view-in-github",
        "colab_type": "text"
      },
      "source": [
        "<a href=\"https://colab.research.google.com/github/TurinShayla/Python-Graph-Brain/blob/main/DelHbO_and_DelHbR.ipynb\" target=\"_parent\"><img src=\"https://colab.research.google.com/assets/colab-badge.svg\" alt=\"Open In Colab\"/></a>"
      ]
    },
    {
      "cell_type": "markdown",
      "source": [
        "Connect to google drive"
      ],
      "metadata": {
        "id": "M6rFvSiNkUcH"
      }
    },
    {
      "cell_type": "code",
      "execution_count": null,
      "metadata": {
        "id": "T6jJBonwnBhW"
      },
      "outputs": [],
      "source": [
        "from google.colab import auth\n",
        "auth.authenticate_user()\n",
        "\n",
        "import gspread\n",
        "from google.auth import default\n",
        "creds, _ = default()\n",
        "\n",
        "gc = gspread.authorize(creds)"
      ]
    },
    {
      "cell_type": "markdown",
      "source": [
        "Call the google sheet and save it into ws work sheet."
      ],
      "metadata": {
        "id": "iG-VR_opkY2S"
      }
    },
    {
      "cell_type": "code",
      "source": [
        "#get the url\n",
        "wb = gc.open_by_key('1SWN0twJvQHvM7_e5LFVMcTVoZ75EZl_YYkyXBeoGS8c')\n",
        "#get the file\n",
        "ws = wb.worksheet('HbOHbR')\n",
        "\n",
        "# get_all_values gives a list of rows.\n",
        "rows = ws.get_all_values()\n",
        "print(rows)"
      ],
      "metadata": {
        "colab": {
          "base_uri": "https://localhost:8080/"
        },
        "id": "KiVhO26FnHak",
        "outputId": "1f17d1ed-962a-467a-c4f1-31639a0b5ac6"
      },
      "execution_count": null,
      "outputs": [
        {
          "output_type": "stream",
          "name": "stdout",
          "text": [
            "[['ID', 'Condition', 'Def Channel 1 hbo', 'Def Channel 2 hbo', 'Def Channel 3 hbo', 'Def Channel 4 hbo', 'Def LPFC hbo', 'Def VMPFC hbo', 'Def HbO', 'Q Channel 1 hbo', 'Q Channel 2 hbo', 'Q Channel 3 hbo', 'Q Channel 4 hbo', 'Q LPFC hbo', 'Q VMPFC hbo', 'Q HbO', 'Def Channel 1 hbr', 'Def Channel 2 hbr', 'Def Channel 3 hbr', 'Def Channel 4 hbr', 'Def LPFC hbr', 'Def VMPFC hbr', 'Def HbR', 'Q Channel 1 hbr', 'Q Channel 2 hbr', 'Q Channel 3 hbr', 'Q Channel 4 hbr', 'Q LPFC hbr', 'Q VMPFC hbr', 'Q HbR'], ['DH3764', 'Game', '-0.205771468', '0.11450119', '-0.010279138', '-0.009772194', '-0.107771831', '0.052111026', '-0.027839322', '0.391084981', '0.048583896', '0.16550942', '0.253801378', '0.322443179', '0.107046658', '0.214744919', '0.2099299835', '-0.5097515759', '0.05230596616', '0.09513914465', '0.1525345641', '-0.2498912871', '-0.04713227364', '-0.2056255292', '0.2579405258', '-0.003325239348', '-0.0329138561', '-0.1192696927', '0.1275677909', '0.001269185376'], ['DH5341', 'Game', '0.190590246', '0.082794184', '0.074897066', '-0.015573881', '0.087508183', '0.078845625', '0.083206814', '-0.025630564', '0.067241755', '0.120024262', '0.123509608', '0.048939522', '0.093633008', '0.071286265', '0.02076288874', '0.111874809', '0.1851447411', '0.1128978532', '0.06683037098', '0.148509775', '0.107670073', '0.1361263205', '0.01500522776', '-0.120375767', '-0.1382842639', '-0.0010789717', '-0.05268526964', '-0.02688212067'], ['DH6528', 'Game', '1.353577974', '0.181336657', '0.176848093', '0.349216514', '0.851397244', '0.179092375', '0.515377891', '-0.559949773', '-0.214470585', '-0.136742304', '-0.127221199', '-0.343585486', '-0.175606445', '-0.259595965', '-0.8451085152', '-0.03037848405', '-0.01797579565', '0.007370735649', '-0.4188688898', '-0.02417713985', '-0.2215230148', '0.4810187931', '-0.0141446837', '-0.005269727781', '-0.1302449541', '0.1753869195', '-0.009707205741', '0.08283985688'], ['MA9343', 'Game', '-0.00727554', '0.026148452', '-0.078936333', '-0.025717276', '-0.016496408', '-0.02639394', '-0.021390844', '-0.076946003', '-0.073003617', '-0.140202444', '-0.181246103', '-0.129096053', '-0.10660303', '-0.117849542', '0.003327165247', '-0.05782175097', '-0.03245143589', '-0.04188154617', '-0.01927719046', '-0.04513659343', '-0.03220689195', '0.02316726503', '0.01582472677', '0.09600430662', '0.2985440894', '0.1608556772', '0.0559145167', '0.108385097'], ['NAF5164', 'Game', '0.677550292', '0.005354923', '-0.105319772', '0.238657491', '0.458103892', '-0.049982424', '0.204207962', '0.28695156', '0.154139348', '0.187953256', '0.286351092', '0.286651326', '0.171046302', '0.228848814', '0.7285939545', '0.5312466437', '0.5901433049', '0.6004463142', '0.6645201344', '0.5606949743', '0.6126075543', '1.149722873', '0.5722406456', '0.6429410634', '0.7734544118', '0.9615886423', '0.6075908545', '0.7845897484'], ['SU6058', 'Game', '0.463491349', '0.592045496', '0.495160699', '-0.096839631', '0.183325859', '0.543603097', '0.36311001', '1.519167149', '0.877559145', '0.906354614', '1.989851094', '1.754509121', '0.89195688', '1.323233001', '0.07004800126', '0.4348537637', '0.001742746689', '0.3612202136', '0.2156341074', '0.2182982552', '0.2169661813', '1.202970288', '0.5605062628', '-0.3036215997', '0.1010610862', '0.6520156869', '0.1284423315', '0.3902290092'], ['DH6641', 'Video', '-0.182891776', '-0.167533626', '-0.151381016', '-0.065535518', '-0.124213647', '-0.159457321', '-0.14181683', '0.05529709', '0.046397904', '-0.001193548', '0.007264516', '0.031280803', '0.022602178', '0.02694149', '0.03617939525', '0.07262517117', '0.08181758486', '0.1949593906', '0.1155693929', '0.07722137801', '0.09639538546', '-0.09523287698', '-0.1115722148', '-0.1139577198', '-0.0288029795', '-0.06201792824', '-0.1127649673', '-0.08739144779'], ['DH9191', 'Video', '0.008340338', '0.044916002', '0.160742233', '0.036658039', '0.022499188', '0.102829118', '0.062661947', '0.115687634', '0.178799423', '0.165872326', '0.141125908', '0.128406771', '0.172335874', '0.150371323', '0.1115830667', '0.05441019763', '0.1622044779', '0.07459301533', '0.09044589447', '0.1083073378', '0.09997199757', '-0.07482027261', '-0.03307522602', '-0.1281746795', '-0.0004134130839', '-0.03230206717', '-0.08062495277', '-0.05807427282'], ['MY8520', 'Video', '-0.287669473', '0.063555955', '-0.00191528', '-0.10216316', '-0.194916317', '0.030820338', '-0.082262256', '-0.186443435', '-0.07217712', '-0.2150943', '-0.190103927', '-0.188273681', '-0.14363571', '-0.165954696', '0.09914331319', '0.08142802122', '0.2532903462', '0.1031993804', '0.1011713468', '0.1673591837', '0.1342652653', '-0.0205443358', '-0.05024051425', '-0.04376813113', '0.09103368378', '0.03524467399', '-0.04700432269', '-0.005879824348'], ['NA1730', 'Video', '0.366526615', '0.004676219', '0.043019829', '0.034002671', '0.200264643', '0.023848024', '0.112055727', '-0.552417116', '0.08761473', '0.214279837', '0.303050173', '-0.124683471', '0.150947284', '0.013131906', '-0.1293757057', '0.0261106126', '-0.03109101423', '0.09331575582', '-0.01802997492', '-0.002490200814', '-0.01026008786', '0.03690805108', '-0.1329600406', '-0.1534408486', '-0.005375940903', '0.01576605509', '-0.1432004446', '-0.06371719477'], ['sy8932', 'Video', '0.315883228', '-0.136620667', '-0.253687181', '0.332031422', '0.323957325', '-0.195153924', '0.064401701', '-0.181763669', '-1.135129702', '0.206962826', '-0.52716048', '-0.354462075', '-0.464083438', '-0.409272756', '0.02727007715', '0.3407264063', '0.1261746372', '0.03164091309', '0.02976769768', '0.2334505217', '0.1383985372', '0.3585479143', '-0.5539553219', '-0.5932341499', '0.0170185714', '0.1869264411', '-0.5664488774', '-0.2176524751'], ['RW9053', 'Video', '1.623674156', '-6.512693986', '-7.151791732', '0.086087852', '0.854881004', '-6.832242859', '-2.988680928', '1.47425896', '-6.88580928', '-7.544537887', '0.338104158', '0.906181559', '-7.215173584', '-3.154496012', '0.5050280414', '2.674228102', '1.359175482', '2.046786134', '1.275907088', '2.016701792', '1.64630444', '0.3045017694', '2.685009619', '1.181125698', '1.689662782', '0.9970822755', '1.933067658', '1.465074967']]\n"
          ]
        }
      ]
    },
    {
      "cell_type": "markdown",
      "source": [
        "Convert the worskheet to Dataframe"
      ],
      "metadata": {
        "id": "QQJsthrekfwN"
      }
    },
    {
      "cell_type": "code",
      "source": [
        "import pandas as pd\n",
        "#df=pd.DataFrame.from_records(rows)\n",
        "df=pd.DataFrame.from_records(rows[1:],columns=rows[0])\n",
        "#print(df)"
      ],
      "metadata": {
        "id": "SduUFYiNnR7t"
      },
      "execution_count": null,
      "outputs": []
    },
    {
      "cell_type": "markdown",
      "source": [
        "Goruped by video and game"
      ],
      "metadata": {
        "id": "KgL40ngHkow0"
      }
    },
    {
      "cell_type": "code",
      "source": [
        "grouped=df.groupby(df.Condition)\n",
        "df_video=grouped.get_group(\"Video\")\n",
        "df_game=grouped.get_group(\"Game\")\n",
        "#print(df_game)"
      ],
      "metadata": {
        "id": "N5ESgaWXlOYp"
      },
      "execution_count": null,
      "outputs": []
    },
    {
      "cell_type": "code",
      "source": [
        "# Convert all columns to numeric\n",
        "df_video = df_video.apply(pd.to_numeric, errors='coerce')\n",
        "# Convert all columns to numeric\n",
        "df_game = df_game.apply(pd.to_numeric, errors='coerce')\n",
        "#print(df_game)"
      ],
      "metadata": {
        "id": "6GfnoKgDnUGR"
      },
      "execution_count": null,
      "outputs": []
    },
    {
      "cell_type": "code",
      "source": [
        "#Condition_1='Def HbO'\n",
        "#Condition_2='Q HbO'\n",
        "Condition_1='Def HbR'\n",
        "Condition_2='Q HbR'"
      ],
      "metadata": {
        "id": "7azHLtIiwvI0"
      },
      "execution_count": null,
      "outputs": []
    },
    {
      "cell_type": "code",
      "source": [
        "Def_video= df_video['Def HbO']\n",
        "Q_video=df_video['Q HbO']\n",
        "Def_game=df_game['Def HbO']\n",
        "Q_game=df_game['Q HbO']"
      ],
      "metadata": {
        "id": "RE0M_j2Bbls5"
      },
      "execution_count": null,
      "outputs": []
    },
    {
      "cell_type": "code",
      "source": [
        "def calculate_mean_SD(df_X,A):\n",
        "  df_X[A]=pd.to_numeric(df_X[A],errors='coerce')\n",
        "  df_X_mean=df_X[A].mean()\n",
        "  df_X_std=df_video[A].std()\n",
        "  return df_X_mean,df_X_std"
      ],
      "metadata": {
        "id": "Il9PW4x0iYXW"
      },
      "execution_count": null,
      "outputs": []
    },
    {
      "cell_type": "markdown",
      "source": [
        "Calculate mean and SD of total brain signal"
      ],
      "metadata": {
        "id": "jTI168Vco4FL"
      }
    },
    {
      "cell_type": "code",
      "source": [
        "def_video_mean,def_video_std=calculate_mean_SD(df_video,Condition_1)\n",
        "def_game_mean,def_game_std=calculate_mean_SD(df_game,Condition_1)\n",
        "Q_video_mean,Q_video_std= calculate_mean_SD(df_video,Condition_2)\n",
        "Q_game_mean,Q_game_std=calculate_mean_SD(df_game,Condition_2)\n"
      ],
      "metadata": {
        "id": "pCC0jRyBiZzM"
      },
      "execution_count": null,
      "outputs": []
    },
    {
      "cell_type": "code",
      "source": [
        "import numpy as np\n",
        "import matplotlib.pyplot as plt"
      ],
      "metadata": {
        "id": "WLAQt3TXoCBu"
      },
      "execution_count": null,
      "outputs": []
    },
    {
      "cell_type": "code",
      "source": [
        "labels = ['Game', 'Video']\n",
        "x_pos = np.arange(len(labels))\n",
        "CTEs = [def_game_mean, def_video_mean,Q_game_mean, Q_video_mean ]\n",
        "error = [def_game_std, def_video_std, Q_game_std, Q_video_std]"
      ],
      "metadata": {
        "id": "U3POx6jioHDw"
      },
      "execution_count": null,
      "outputs": []
    },
    {
      "cell_type": "code",
      "source": [
        "def autolabel(rects, xpos='center'):\n",
        "    \"\"\"\n",
        "    Attach a text label above each bar in *rects*, displaying its height.\n",
        "\n",
        "    *xpos* indicates which side to place the text w.r.t. the center of\n",
        "    the bar. It can be one of the following {'center', 'right', 'left'}.\n",
        "    \"\"\"\n",
        "\n",
        "    ha = {'center': 'center', 'right': 'left', 'left': 'right'}\n",
        "    offset = {'center': 0, 'right': 1, 'left': -1}\n",
        "\n",
        "    for rect in rects:\n",
        "        height = rect.get_height()\n",
        "        ax.annotate('{}'.format(height),\n",
        "                    xy=(rect.get_x() + rect.get_width() / 2, height),\n",
        "                    xytext=(offset[xpos]*3, 3),  # use 3 points offset\n",
        "                    textcoords=\"offset points\",  # in both directions\n",
        "                    ha=ha[xpos], va='bottom')"
      ],
      "metadata": {
        "id": "TcB8mZLMp18p"
      },
      "execution_count": null,
      "outputs": []
    },
    {
      "cell_type": "code",
      "source": [
        "#pre is game post is video\n",
        "#def_mean,def_std=(round(def_game_mean,2),round(def_video_mean,2)),(round(def_game_std,2),round(def_video_std,2))\n",
        "def_mean,def_std=(round(def_game_mean,2),round(Q_game_mean,2)),(round(def_game_std,2),round(Q_video_std,2))\n",
        "\n",
        "print(def_mean)\n",
        "#post_mean,post_std=(round(game_mean_Post,2),round(video_mean_Post,2)),(game_std_Post,video_std_Post)\n",
        "#Q_mean,Q_std=(round(Q_game_mean,2),round(Q_video_mean,2)), (round(Q_game_std,2),round(Q_video_std,2))\n",
        "Q_mean,Q_std=(round(def_video_mean,2),round(Q_video_mean,2)), (round(def_video_std,2),round(Q_video_std,2))\n",
        "print(Q_mean)\n",
        "ind = np.arange(len(def_mean))  # the x locations for the groups\n",
        "width = 0.35  # the width of the bars\n",
        "\n",
        "fig, ax = plt.subplots()\n",
        "rects1 = ax.bar(ind - width/2, def_mean, width, yerr=def_std, align='center',\n",
        "                label='Game',        capsize=10,alpha=0.5,\n",
        "       color=['lightseagreen'],edgecolor='black')\n",
        "rects2 = ax.bar(ind + width/2, Q_mean, width, yerr=Q_std, align='center',\n",
        "                label='Video',        capsize=10,alpha=0.5,\n",
        "       color=['gray'],edgecolor='black')\n",
        "\n",
        "# Add some text for labels, title and custom x-axis tick labels, etc.\n",
        "ax.set_ylabel('\\u0394 HbR')\n",
        "ax.set_title('\\u0394 Hbr Game vs Video')\n",
        "#ax.set_title('\\u0394 HbR')\n",
        "ax.set_xticks(ind)\n",
        "ax.set_xticklabels(('Definition', 'Quiz'))\n",
        "ax.legend(),\n",
        "ax.yaxis.grid(True)\n",
        "autolabel(rects1, \"left\")\n",
        "autolabel(rects2, \"right\")\n",
        "\n",
        "fig.tight_layout()\n",
        "\n",
        "plt.savefig('delHbr.jpg',dpi=900)\n",
        "plt.savefig('delHbr.pdf',dpi=1300)\n"
      ],
      "metadata": {
        "colab": {
          "base_uri": "https://localhost:8080/",
          "height": 522
        },
        "id": "dL_YLaAZp6J9",
        "outputId": "66100b64-b52c-4690-d0aa-1a0505070008"
      },
      "execution_count": null,
      "outputs": [
        {
          "output_type": "stream",
          "name": "stdout",
          "text": [
            "(0.11, 0.22)\n",
            "(0.35, 0.17)\n"
          ]
        },
        {
          "output_type": "display_data",
          "data": {
            "text/plain": [
              "<Figure size 640x480 with 1 Axes>"
            ],
            "image/png": "[encoded data removed]"
          },
          "metadata": {}
        }
      ]
    },
    {
      "cell_type": "code",
      "source": [
        "data = [Def_game, Def_video, Q_game, Q_video]\n",
        "\n",
        "# Create the boxplot\n",
        "plt.boxplot(data, labels=['Def_Game', 'Def_Video', 'Q_Game', 'Q_Video'])\n",
        "\n",
        "# Set the title and labels\n",
        "plt.title('Boxplot')\n",
        "plt.xlabel('Groups')\n",
        "plt.ylabel('\\u0394 HbO')\n",
        "\n",
        "# Display the plot\n",
        "plt.show()\n",
        "# Save the figure\n",
        "plt.savefig('hbo_box.jpg', dpi=900)\n",
        "plt.savefig('hbo_box.pdf', dpi=1300)"
      ],
      "metadata": {
        "colab": {
          "base_uri": "https://localhost:8080/",
          "height": 489
        },
        "id": "7RwGCmI4cTop",
        "outputId": "c3e5979b-ddf3-40a8-e9ed-68b0bbb1f9c9"
      },
      "execution_count": null,
      "outputs": [
        {
          "output_type": "display_data",
          "data": {
            "text/plain": [
              "<Figure size 640x480 with 1 Axes>"
            ],
            "image/png": "[encoded data removed]"
          },
          "metadata": {}
        },
        {
          "output_type": "display_data",
          "data": {
            "text/plain": [
              "<Figure size 640x480 with 0 Axes>"
            ]
          },
          "metadata": {}
        }
      ]
    },
    {
      "cell_type": "code",
      "source": [
        "\n",
        "\n",
        "data = [Def_game, Def_video, Q_game, Q_video]\n",
        "\n",
        "# Create the boxplot\n",
        "plt.boxplot(data, labels=['Def_Game', 'Def_Video', 'Q_Game', 'Q_Video'])\n",
        "\n",
        "# Set the title and labels\n",
        "plt.title('Boxplot')\n",
        "plt.xlabel('Groups')\n",
        "plt.ylabel('\\u0394 HbO')\n",
        "\n",
        "# Iterate through the data and add text annotations\n",
        "for i, group_data in enumerate(data):\n",
        "    for j, value in enumerate(group_data):\n",
        "        plt.text(i + 1, value, f'{value:.2f}', ha='center', va='bottom')\n",
        "\n",
        "# Display the plot\n",
        "plt.show()\n",
        "\n",
        "# Save the figure\n",
        "plt.savefig('hbo_box.jpg', dpi=900)\n",
        "plt.savefig('hbo_box.pdf', dpi=1300)\n"
      ],
      "metadata": {
        "colab": {
          "base_uri": "https://localhost:8080/",
          "height": 489
        },
        "id": "gfESTZtvixwG",
        "outputId": "3b42f26e-cbe5-4cee-e53f-707a11a55f93"
      },
      "execution_count": null,
      "outputs": [
        {
          "output_type": "display_data",
          "data": {
            "text/plain": [
              "<Figure size 640x480 with 1 Axes>"
            ],
            "image/png": "[encoded data removed]"
          },
          "metadata": {}
        },
        {
          "output_type": "display_data",
          "data": {
            "text/plain": [
              "<Figure size 640x480 with 0 Axes>"
            ]
          },
          "metadata": {}
        }
      ]
    },
    {
      "cell_type": "code",
      "source": [
        "import numpy as np\n",
        "import matplotlib.pyplot as plt\n",
        "\n",
        "# Your existing code for the bar chart\n",
        "\n",
        "# Box plot data\n",
        "boxplot_data = [Def_game, Def_video, Q_game, Q_video]\n",
        "\n",
        "# Create a new subplot for the box plot\n",
        "ax2 = plt.twinx()\n",
        "ax2.boxplot(boxplot_data, positions=[0.2, 0.4, 0.6, 0.8], widths=0.1)\n",
        "\n",
        "# Set the labels and title for the box plot\n",
        "ax2.set_ylabel('Data')\n",
        "ax2.set_title('Box Plot')\n",
        "\n",
        "# Set the x-axis tick positions and labels\n",
        "ax2.set_xticks([0.2, 0.4, 0.6, 0.8])\n",
        "ax2.set_xticklabels(['Def Game', 'Def Video', 'Q Game', 'Q Video'])\n",
        "\n",
        "# Adjust the layout to accommodate the box plot\n",
        "plt.subplots_adjust(right=0.8)\n",
        "\n",
        "# Save the figure\n",
        "plt.savefig('combined_plot.jpg', dpi=900)\n",
        "plt.savefig('combined_plot.pdf', dpi=1300)\n",
        "\n",
        "# Show the combined plot\n",
        "plt.show()\n"
      ],
      "metadata": {
        "colab": {
          "base_uri": "https://localhost:8080/",
          "height": 452
        },
        "id": "G2L7KAYCdKzL",
        "outputId": "b5bf5f91-146c-4930-cbb3-cca590bee967"
      },
      "execution_count": null,
      "outputs": [
        {
          "output_type": "display_data",
          "data": {
            "text/plain": [
              "<Figure size 640x480 with 2 Axes>"
            ],
            "image/png": "[encoded data removed]"
          },
          "metadata": {}
        }
      ]
    },
    {
      "cell_type": "code",
      "source": [
        "print(type(def_video_mean.tolist()), def_video_mean.tolist())"
      ],
      "metadata": {
        "colab": {
          "base_uri": "https://localhost:8080/"
        },
        "id": "SzimN5Apqhj_",
        "outputId": "8ee0278d-198d-4a24-d1a9-80cd2184c20f"
      },
      "execution_count": null,
      "outputs": [
        {
          "output_type": "stream",
          "name": "stdout",
          "text": [
            "<class 'float'> 0.350845922945\n"
          ]
        }
      ]
    },
    {
      "cell_type": "markdown",
      "source": [
        "Channel wise analysis"
      ],
      "metadata": {
        "id": "FLAums1AfyDj"
      }
    },
    {
      "cell_type": "markdown",
      "source": [
        "Need to assign definition and quiz separately"
      ],
      "metadata": {
        "id": "W0gCc0CSl5OT"
      }
    },
    {
      "cell_type": "code",
      "source": [
        "#A='Q Channel 1 hbo'\n",
        "#B='Q Channel 2 hbo'\n",
        "#C='Q Channel 3 hbo'\n",
        "#D='Q Channel 4 hbo'\n",
        "\n",
        "#A='Def Channel 1 hbo'\n",
        "#B='Def Channel 2 hbo'\n",
        "#C='Def Channel 3 hbo'\n",
        "#D='Def Channel 4 hbo'\n",
        "\n",
        "A='Def Channel 1 hbr'\n",
        "B='Def Channel 2 hbr'\n",
        "C='Def Channel 3 hbr'\n",
        "D='Def Channel 4 hbr'\n",
        "\n",
        "#A='Q Channel 1 hbr'\n",
        "#B='Q Channel 2 hbr'\n",
        "#C='Q Channel 3 hbr'\n",
        "#D='Q Channel 4 hbr'\n",
        "\n"
      ],
      "metadata": {
        "id": "w4_M-GdIh4D5"
      },
      "execution_count": null,
      "outputs": []
    },
    {
      "cell_type": "code",
      "source": [
        "LDL_game,LDL_game_std= calculate_mean_SD(df_game,A)\n",
        "LMP_game,LMP_game_std= calculate_mean_SD(df_game,B)\n",
        "RMP_game,RMP_game_std= calculate_mean_SD(df_game,C)\n",
        "RDL_game,RDL_game_std= calculate_mean_SD(df_game,D)"
      ],
      "metadata": {
        "id": "bYXNS1_Ulpq9"
      },
      "execution_count": null,
      "outputs": []
    },
    {
      "cell_type": "code",
      "source": [
        "LDL_video,LDL_video_std= calculate_mean_SD(df_video,A)\n",
        "LMP_video,LMP_video_std= calculate_mean_SD(df_video,B)\n",
        "RMP_video,RMP_video_std= calculate_mean_SD(df_video,C)\n",
        "RDL_video,RDL_video_std= calculate_mean_SD(df_video,D)"
      ],
      "metadata": {
        "id": "dQiOjOgPhOcg"
      },
      "execution_count": null,
      "outputs": []
    },
    {
      "cell_type": "code",
      "source": [
        "import matplotlib.patches as patches"
      ],
      "metadata": {
        "id": "H81m56merge9"
      },
      "execution_count": null,
      "outputs": []
    },
    {
      "cell_type": "code",
      "source": [
        "# Assuming you have a DataFrame named 'data' with four columns: 'Group', 'Pre-test', and 'Post-test'\n",
        "data = pd.DataFrame({\n",
        "    'Group': ['LDL', 'LDL', 'LMP', 'LMP', 'RMP', 'RMP', 'RDL', 'RDL'],\n",
        "    'Test': ['Game', 'Video', 'Game', 'Video', 'Game', 'Video', 'Game', 'Video'],\n",
        "    'Score': [LDL_game, LDL_video, LMP_game, LMP_video,\n",
        "              RMP_game, RMP_video, RDL_game, RDL_video]})\n",
        "\n",
        "# Pivot the data to get separate columns for pre-test and post-test scores\n",
        "pivot_data = data.pivot(index='Group', columns='Test', values='Score')\n",
        "\n",
        "# Calculate the percentage difference\n",
        "pivot_data['Percentage Difference'] = ((pivot_data['Video'] - pivot_data['Game']) / pivot_data[['Video', 'Game']].max(axis=1)) * 100\n",
        "\n",
        "# Plot the grouped bar chart\n",
        "fig, ax = plt.subplots()\n",
        "bar_width = 0.35\n",
        "index = np.arange(len(pivot_data))\n",
        "colors = ['g' if diff >= 0 else 'r' for diff in pivot_data['Percentage Difference']]\n",
        "pre_bar = ax.bar(index, pivot_data['Game'], bar_width, color='lightseagreen', alpha=0.5, label='Game',edgecolor='black')\n",
        "post_bar = ax.bar(index + bar_width, pivot_data['Video'], bar_width, color='grey', alpha=0.5, label='Video',edgecolor='black')\n",
        "\n",
        "# Add arrows with pointy arrowheads for comparison\n",
        "for i, diff in enumerate(pivot_data['Percentage Difference']):\n",
        "    if diff >= 0:\n",
        "        x_start = index[i] + bar_width / 2\n",
        "        y_start = min(pivot_data['Game'][i], pivot_data['Video'][i])\n",
        "        x_end = index[i] + bar_width / 2\n",
        "        y_end = min(pivot_data['Game'][i], pivot_data['Video'][i]) + abs(pivot_data['Video'][i] - pivot_data['Game'][i])\n",
        "        dx = x_end - x_start\n",
        "        dy = y_end - y_start\n",
        "  #      arrow = patches.FancyArrow(x_start, y_start, dx, dy, width=0.02, head_width=0.15, head_length=0.2, length_includes_head=True,\n",
        "     #                              color='black', arrowstyle='->')\n",
        "        arrow = patches.FancyArrow(x_start-0.2, y_start, dx, dy, width=0.01, head_width=0.05, head_length=0.04, length_includes_head=True,\n",
        "                                   color='black')\n",
        "        ax.add_patch(arrow)\n",
        "        ax.text(x_start + dx/2, y_start + dy/2, f'{abs(diff):.2f}%', ha='center', va='center')\n",
        "    else:\n",
        "        x_start = index[i] + bar_width / 2\n",
        "        y_start = max(pivot_data['Game'][i], pivot_data['Video'][i])\n",
        "        x_end = index[i] + bar_width / 2\n",
        "        y_end = max(pivot_data['Game'][i], pivot_data['Video'][i]) - abs(pivot_data['Video'][i] - pivot_data['Game'][i])\n",
        "        dx = x_end - x_start\n",
        "        dy = y_end - y_start\n",
        "        arrow = patches.FancyArrow(x_start+0.2, y_start, dx, dy, width=0.01, head_width=0.05, head_length=0.04, length_includes_head=True,\n",
        "                                   color='black')\n",
        "        ax.add_patch(arrow)\n",
        "        ax.text(x_start + dx/2, y_start + dy/2, f'{abs(diff):.2f}%', ha='center', va='center')\n",
        "\n",
        "# Set labels and title\n",
        "ax.set_xlabel('Four Regions of Brain')\n",
        "ax.yaxis.grid(True)\n",
        "ax.set_ylabel('\\u0394 HbR')\n",
        "ax.set_title('Percentage Difference: Definition')\n",
        "ax.set_xticks(index + bar_width / 2)\n",
        "ax.set_xticklabels(pivot_data.index)\n",
        "ax.legend()\n",
        "\n",
        "#plt.show()\n",
        "plt.savefig('quiz4channel_hbr_def.jpg',dpi=900)\n",
        "plt.savefig('quiz4channel_hbr_def.pdf',dpi=1300)"
      ],
      "metadata": {
        "id": "C1blYZQxfxpR"
      },
      "execution_count": null,
      "outputs": []
    },
    {
      "cell_type": "code",
      "source": [
        "import scipy.stats as stats\n",
        "\n",
        "# Define the columns for ANOVA and t-test\n",
        "#column_definition = 'Q HbO' %df_video['Q HbO']\n",
        "#column_quiz = 'Q HbO'\n",
        "\n",
        "#column_definition = 'Q HbR' %df_video['Q HbR']\n",
        "#column_quiz = 'Q HbR'\n",
        "\n",
        "#column_definition = 'Def HbO' %df_video['Def HbO']\n",
        "#column_quiz = 'Def HbO'\n",
        "\n",
        "column_definition = 'Def HbR' %df_video['Def HbR']\n",
        "column_quiz = 'Def HbR'\n",
        "\n",
        "# Extract the data from the DataFrames\n",
        "data_definition = df_video[column_definition]\n",
        "data_quiz = df_game[column_quiz]\n",
        "\n",
        "# One-way ANOVA\n",
        "f_value, p_value_anova = stats.f_oneway(data_definition, data_quiz)\n",
        "if p_value_anova <= 0.05:\n",
        "    print(\"ANOVA result: statistically significant (p-value ≤ 0.05)\")\n",
        "else:\n",
        "    print(\"ANOVA result: not statistically significant (p-value > 0.05)\")\n",
        "\n",
        "# Independent samples t-test\n",
        "t_value, p_value_ttest = stats.ttest_ind(pd.to_numeric(data_definition),pd.to_numeric(data_quiz))\n",
        "if p_value_ttest <= 0.05:\n",
        "    print(\"t-test result: statistically significant (p-value ≤ 0.05)\")\n",
        "else:\n",
        "    print(\"t-test result: not statistically significant (p-value > 0.05)\")\n",
        "\n",
        "\n",
        "# Print ANOVA result in APA style\n",
        "anova_result = f\"One-way ANOVA: F({len(data_definition)-1}, {len(data_quiz)-1}) = {f_value:.2f}, p = {p_value_anova:.3f}\"\n",
        "print(\"ANOVA result (APA style):\")\n",
        "print(anova_result)\n",
        "print()\n",
        "\n",
        "# Print t-test result in APA style\n",
        "ttest_result = f\"Independent samples t-test: t({len(data_definition)+len(data_quiz)-2}) = {t_value:.2f}, p = {p_value_ttest:.3f}\"\n",
        "print(\"t-test result (APA style):\")\n",
        "print(ttest_result)"
      ],
      "metadata": {
        "id": "mRu1J71ibzo0"
      },
      "execution_count": null,
      "outputs": []
    },
    {
      "cell_type": "code",
      "source": [
        "game_mean=def_game_mean+Q_game_mean\n",
        "video_mean=def_video_mean+Q_video_mean\n",
        "labels = ['Game', 'Video']\n",
        "x_pos = np.arange(len(labels))\n",
        "CTEs = [game_mean, video_mean]\n",
        "error = [game_std, video_std]"
      ],
      "metadata": {
        "id": "8kklih-wTC7R"
      },
      "execution_count": null,
      "outputs": []
    },
    {
      "cell_type": "code",
      "source": [
        "# Build the plot\n",
        "fig, ax = plt.subplots()\n",
        "ax.bar(x_pos, CTEs,\n",
        "       yerr=error,\n",
        "       align='center',\n",
        "       #alpha=0.5,\n",
        "       ecolor='black',\n",
        "       capsize=10,\n",
        "       color=['lightskyblue','lightgray']\n",
        "       )\n",
        "ax.set_ylabel('Average Time')\n",
        "ax.set_xticks(x_pos)\n",
        "ax.set_xticklabels(labels)\n",
        "ax.set_title('Condition')\n",
        "ax.yaxis.grid(True)\n",
        "\n",
        "# Save the figure and show\n",
        "plt.tight_layout()\n",
        "\n",
        "plt.savefig('bar_plot_with_error_bars.png')\n",
        "plt.show()"
      ],
      "metadata": {
        "id": "15LB0rNpTD0c"
      },
      "execution_count": null,
      "outputs": []
    }
  ]
}