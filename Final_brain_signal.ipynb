{
  "nbformat": 4,
  "nbformat_minor": 0,
  "metadata": {
    "colab": {
      "provenance": [],
      "authorship_tag": "ABX9TyPxluc1raVuLPJWrvWdtPyu",
      "include_colab_link": true
    },
    "kernelspec": {
      "name": "python3",
      "display_name": "Python 3"
    },
    "language_info": {
      "name": "python"
    }
  },
  "cells": [
    {
      "cell_type": "markdown",
      "metadata": {
        "id": "view-in-github",
        "colab_type": "text"
      },
      "source": [
        "<a href=\"https://colab.research.google.com/github/TurinShayla/Python-Graph-Brain/blob/main/Final_brain_signal.ipynb\" target=\"_parent\"><img src=\"https://colab.research.google.com/assets/colab-badge.svg\" alt=\"Open In Colab\"/></a>"
      ]
    },
    {
      "cell_type": "markdown",
      "source": [
        "Step 1\n"
      ],
      "metadata": {
        "id": "RTt070cTUZyt"
      }
    },
    {
      "cell_type": "code",
      "execution_count": null,
      "metadata": {
        "id": "RfpgjFiMr-vw"
      },
      "outputs": [],
      "source": [
        "from google.colab import auth\n",
        "auth.authenticate_user()\n",
        "import pandas as pd\n",
        "import gspread\n",
        "from gspread_dataframe import get_as_dataframe, set_with_dataframe\n",
        "from google.auth import default\n",
        "creds, _ = default()\n",
        "\n",
        "gc = gspread.authorize(creds)"
      ]
    },
    {
      "cell_type": "code",
      "source": [
        "# Get the URL\n",
        "wb = gc.open_by_key('16EARRULbd3a60Za5XjIhcND_kkEI1HZqaLippklH5g0')\n",
        "\n",
        "print('Channel 1', 'Channel 2', 'Channel 3', 'Channel 4','LPFC','VMPFC','Total HbO or HbR')\n",
        "#Definition HbO\n",
        "#sheet_names = ['oxygraph1.ref.hbo.Block1', 'oxygraph1.ref.hbo.Block3', 'oxygraph1.ref.hbo.Block5','oxygraph1.ref.hbo.Block7', 'oxygraph1.ref.hbo.Block9', 'oxygraph1.ref.hbo.Block11', 'oxygraph1.ref.hbo.Block13']\n",
        "\n"
      ],
      "metadata": {
        "colab": {
          "base_uri": "https://localhost:8080/"
        },
        "id": "pDr1coUhtyVK",
        "outputId": "74879d2c-1cc4-436c-d6e6-554be1e20ff8"
      },
      "execution_count": null,
      "outputs": [
        {
          "output_type": "stream",
          "name": "stdout",
          "text": [
            "Channel 1 Channel 2 Channel 3 Channel 4 LPFC VMPFC Total HbO or HbR\n"
          ]
        }
      ]
    },
    {
      "cell_type": "code",
      "source": [
        "def calculate_channel1(df,A,B,C,D,avg):\n",
        "  # Subtract average of Q and R from columns A to D\n",
        "    df['Modified_A'] = df[A][:313] - df[avg][:313]\n",
        "    df['Modified_B'] = df[B][:313] - df[avg][:313]\n",
        "    df['Modified_C'] = df[C][:313] - df[avg][:313]\n",
        "    df['Modified_D'] = df[D][:313] - df[avg][:313]\n",
        "    channel_mean = df[['Modified_A', 'Modified_B', 'Modified_C', 'Modified_D']].mean().mean()"
      ],
      "metadata": {
        "id": "ppDHIFjWViRp"
      },
      "execution_count": null,
      "outputs": []
    },
    {
      "cell_type": "code",
      "source": [
        "def calculate_channel(df,A,B,C,D,avg):\n",
        "  # Subtract average of Q and R from columns A to D\n",
        "    df['Modified_A'] = df[A] - df[avg]\n",
        "    df['Modified_B'] = df[B] - df[avg]\n",
        "    df['Modified_C'] = df[C] - df[avg]\n",
        "    df['Modified_D'] = df[D] - df[avg]\n",
        "    channel_mean = df[['Modified_A', 'Modified_B', 'Modified_C', 'Modified_D']].mean().mean()\n",
        " #   channel_mean_values.append(channel_mean)\n",
        "\n",
        "  #  mean_across_sheets = sum(channel_mean_values) / len(channel_mean_values)\n",
        "    return channel_mean"
      ],
      "metadata": {
        "id": "0Fxt-cq0Vdu9"
      },
      "execution_count": null,
      "outputs": []
    },
    {
      "cell_type": "code",
      "source": [
        "def Total_brain(df,A,B,C,D,E,F,G,H,I,J,K,L,M,N,O,P,avg):\n",
        "  # Subtract average of Q and R from columns A to D\n",
        "    df['Modified_A'] = df[A] - df[avg]\n",
        "    df['Modified_B'] = df[B] - df[avg]\n",
        "    df['Modified_C'] = df[C] - df[avg]\n",
        "    df['Modified_D'] = df[D] - df[avg]\n",
        "    df['Modified_E'] = df[E] - df[avg]\n",
        "    df['Modified_F'] = df[F] - df[avg]\n",
        "    df['Modified_G'] = df[G] - df[avg]\n",
        "    df['Modified_H'] = df[H] - df[avg]\n",
        "    df['Modified_I'] = df[I] - df[avg]\n",
        "    df['Modified_J'] = df[J] - df[avg]\n",
        "    df['Modified_K'] = df[K] - df[avg]\n",
        "    df['Modified_L'] = df[L] - df[avg]\n",
        "    df['Modified_M'] = df[M] - df[avg]\n",
        "    df['Modified_N'] = df[N] - df[avg]\n",
        "    df['Modified_O'] = df[O] - df[avg]\n",
        "    df['Modified_P'] = df[P] - df[avg]\n",
        "    channel_mean = df[['Modified_A', 'Modified_B', 'Modified_C', 'Modified_D', 'Modified_E', 'Modified_F', 'Modified_G', 'Modified_H','Modified_I', 'Modified_J', 'Modified_K', 'Modified_L', 'Modified_M', 'Modified_N', 'Modified_O', 'Modified_P']].mean().mean()\n",
        "    return channel_mean"
      ],
      "metadata": {
        "id": "nmYkIMADVaCT"
      },
      "execution_count": null,
      "outputs": []
    },
    {
      "cell_type": "code",
      "source": [
        "def Total_brain1(df,A,B,C,D,E,F,G,H,I,J,K,L,M,N,O,P,avg):\n",
        "  # Subtract average of Q and R from columns A to D\n",
        "    df['Modified_A'] = df[A][:313] - df[avg][:313]\n",
        "    df['Modified_B'] = df[B][:313] - df[avg][:313]\n",
        "    df['Modified_C'] = df[C][:313] - df[avg][:313]\n",
        "    df['Modified_D'] = df[D][:313] - df[avg][:313]\n",
        "    df['Modified_E'] = df[E][:313] - df[avg][:313]\n",
        "    df['Modified_F'] = df[F][:313] - df[avg][:313]\n",
        "    df['Modified_G'] = df[G][:313] - df[avg][:313]\n",
        "    df['Modified_H'] = df[H][:313] - df[avg][:313]\n",
        "    df['Modified_I'] = df[I][:313] - df[avg][:313]\n",
        "    df['Modified_J'] = df[J][:313] - df[avg][:313]\n",
        "    df['Modified_K'] = df[K][:313] - df[avg][:313]\n",
        "    df['Modified_L'] = df[L][:313]-  df[avg][:313]\n",
        "    df['Modified_M'] = df[M][:313] - df[avg][:313]\n",
        "    df['Modified_N'] = df[N][:313] - df[avg][:313]\n",
        "    df['Modified_O'] = df[O][:313] - df[avg][:313]\n",
        "    df['Modified_P'] = df[P][:313] - df[avg][:313]\n",
        "    channel_mean = df[['Modified_A', 'Modified_B', 'Modified_C', 'Modified_D', 'Modified_E', 'Modified_F', 'Modified_G', 'Modified_H','Modified_I', 'Modified_J', 'Modified_K', 'Modified_L', 'Modified_M', 'Modified_N', 'Modified_O', 'Modified_P']].mean().mean()\n",
        "    return channel_mean"
      ],
      "metadata": {
        "id": "gruw9coIVP-5"
      },
      "execution_count": null,
      "outputs": []
    },
    {
      "cell_type": "code",
      "source": [
        "def LPFC_VMPFC1(df,A,B,C,D,E,F,G,H,avg):\n",
        "  # Subtract average of Q and R from columns A to D\n",
        "    df['Modified_A'] = df[A][:313] - df[avg][:313]\n",
        "    df['Modified_B'] = df[B][:313] - df[avg][:313]\n",
        "    df['Modified_C'] = df[C][:313] - df[avg][:313]\n",
        "    df['Modified_D'] = df[D][:313] - df[avg][:313]\n",
        "    df['Modified_E'] = df[E][:313] - df[avg][:313]\n",
        "    df['Modified_F'] = df[F][:313] - df[avg][:313]\n",
        "    df['Modified_G'] = df[G][:313] - df[avg][:313]\n",
        "    df['Modified_H'] = df[H][:313] - df[avg][:313]\n",
        "    channel_mean = df[['Modified_A', 'Modified_B', 'Modified_C', 'Modified_D', 'Modified_E', 'Modified_F', 'Modified_G', 'Modified_H']].mean().mean()\n",
        "    return channel_mean"
      ],
      "metadata": {
        "id": "1mxZ00V2VnBi"
      },
      "execution_count": null,
      "outputs": []
    },
    {
      "cell_type": "code",
      "source": [
        "def LPFC_VMPFC(df,A,B,C,D,E,F,G,H,avg):\n",
        "  # Subtract average of Q and R from columns A to D\n",
        "    df['Modified_A'] = df[A] - df[avg]\n",
        "    df['Modified_B'] = df[B] - df[avg]\n",
        "    df['Modified_C'] = df[C] - df[avg]\n",
        "    df['Modified_D'] = df[D] - df[avg]\n",
        "    df['Modified_E'] = df[E] - df[avg]\n",
        "    df['Modified_F'] = df[F] - df[avg]\n",
        "    df['Modified_G'] = df[G] - df[avg]\n",
        "    df['Modified_H'] = df[H] - df[avg]\n",
        "    channel_mean = df[['Modified_A', 'Modified_B', 'Modified_C', 'Modified_D', 'Modified_E', 'Modified_F', 'Modified_G', 'Modified_H']].mean().mean()\n",
        "    return channel_mean"
      ],
      "metadata": {
        "id": "PHPUeKcXVqFY"
      },
      "execution_count": null,
      "outputs": []
    },
    {
      "cell_type": "code",
      "source": [
        "def brain_signal(sheet_names):\n",
        "\n",
        "  channel1_mean_values = []\n",
        "  channel2_mean_values = []\n",
        "  channel3_mean_values = []\n",
        "  channel4_mean_values = []\n",
        "  VMPFC_mean_values=[]\n",
        "  LPFC_mean_values=[]\n",
        "  total_brain_mean_values=[]\n",
        "  for sheet_name in sheet_names:\n",
        "    ws = wb.worksheet(sheet_name)\n",
        "\n",
        "    # Get all values from the sheet\n",
        "    rows = ws.get_all_values()\n",
        "\n",
        "        # Exclude unnecessary rows\n",
        "    rows = rows[13:]\n",
        "\n",
        "\n",
        "    # Create DataFrame from the rows\n",
        "    df = pd.DataFrame.from_records(rows[1:], columns=rows[0])\n",
        "    # Convert NaN to 0\n",
        "    df = df.fillna(0)\n",
        "      # Strip leading/trailing spaces\n",
        "    df.columns = df.columns.str.strip()\n",
        "\n",
        "    # Convert all columns to numeric\n",
        "    df = df.apply(pd.to_numeric, errors='coerce')\n",
        "#    print(df)\n",
        "# Calculate average of columns Q and R for each row\n",
        "    df['Average_QR'] = df[['Optode17', 'Optode18']].mean(axis=1)\n",
        "\n",
        "    channel1_mean=calculate_channel(df,'Optode1','Optode2','Optode3','Optode4','Average_QR')\n",
        "    channel1_mean_values.append(channel1_mean)\n",
        "\n",
        "    channel2_mean=calculate_channel(df,'Optode5','Optode6','Optode7','Optode8','Average_QR')\n",
        "    channel2_mean_values.append(channel2_mean)\n",
        "\n",
        "    channel3_mean=calculate_channel(df,'Optode9','Optode10','Optode11','Optode12','Average_QR')\n",
        "    channel3_mean_values.append(channel3_mean)\n",
        "\n",
        "    channel4_mean=calculate_channel(df,'Optode13','Optode14','Optode15','Optode16','Average_QR')\n",
        "    channel4_mean_values.append(channel4_mean)\n",
        "\n",
        "    LPFC_mean= LPFC_VMPFC(df,'Optode1','Optode2','Optode3','Optode4','Optode13','Optode14','Optode15','Optode16','Average_QR')\n",
        "    LPFC_mean_values.append(LPFC_mean)\n",
        "\n",
        "    VMPFC_mean= LPFC_VMPFC(df,'Optode5','Optode6','Optode7','Optode8','Optode9','Optode10','Optode11','Optode12','Average_QR')\n",
        "    VMPFC_mean_values.append(VMPFC_mean)\n",
        "\n",
        "    total_mean=Total_brain(df,'Optode1','Optode2','Optode3','Optode4','Optode5','Optode6','Optode7','Optode8','Optode9','Optode10','Optode11','Optode12','Optode13','Optode14','Optode15','Optode16','Average_QR')\n",
        "    total_brain_mean_values.append(total_mean)\n",
        "   # channel1_mean_values.append(channel1_mean2)\n",
        "\n",
        "  channel1_mean = sum(channel1_mean_values) / len(channel1_mean_values)\n",
        "  channel2_mean = sum(channel2_mean_values) / len(channel2_mean_values)\n",
        "  channel3_mean = sum(channel3_mean_values) / len(channel3_mean_values)\n",
        "  channel4_mean = sum(channel4_mean_values) / len(channel4_mean_values)\n",
        "  LPFC_mean = sum(LPFC_mean_values) / len(LPFC_mean_values)\n",
        "  VMPFC_mean = sum(VMPFC_mean_values) / len(VMPFC_mean_values)\n",
        "  total_mean= sum(total_brain_mean_values) / len(total_brain_mean_values)\n",
        "  return(channel1_mean,channel2_mean,channel3_mean,channel4_mean,LPFC_mean,VMPFC_mean,total_mean)\n",
        "\n",
        "\n"
      ],
      "metadata": {
        "id": "har_vJcETPtp"
      },
      "execution_count": null,
      "outputs": []
    },
    {
      "cell_type": "code",
      "source": [
        "#sheet_names = ['oxygraph1.hbo.Block1', 'oxygraph1.hbo.Block3', 'oxygraph1.hbo.Block5','oxygraph1.hbo.Block7', 'oxygraph1.hbo.Block9', 'oxygraph1.hbo.Block11', 'oxygraph1.hbo.Block13']\n",
        "sheet_names = ['oxygraph1.ref.hbo.Block1', 'oxygraph1.ref.hbo.Block3', 'oxygraph1.ref.hbo.Block5','oxygraph1.ref.hbo.Block7', 'oxygraph1.ref.hbo.Block9', 'oxygraph1.ref.hbo.Block11', 'oxygraph1.ref.hbo.Block13']\n",
        "def_hbo=brain_signal(sheet_names)\n",
        "#print(def_hbo)\n",
        "\n",
        "#Quiz HbO\n",
        "sheet_names = ['oxygraph1.ref.hbo.Block2', 'oxygraph1.ref.hbo.Block4', 'oxygraph1.ref.hbo.Block6','oxygraph1.ref.hbo.Block8', 'oxygraph1.ref.hbo.Block10', 'oxygraph1.ref.hbo.Block12', 'oxygraph1.ref.hbo.Block14']\n",
        "#sheet_names = ['oxygraph1.hbo.Block2', 'oxygraph1.hbo.Block4', 'oxygraph1.hbo.Block6','oxygraph1.hbo.Block8', 'oxygraph1.hbo.Block10', 'oxygraph1.hbo.Block12', 'oxygraph1.hbo.Block14']\n",
        "\n",
        "Q_hbo=brain_signal(sheet_names)\n",
        "print(Q_hbo)\n",
        "\n",
        "#Definition HbR\n",
        "sheet_names = ['oxygraph1.ref.hbr.Block1', 'oxygraph1.ref.hbr.Block3', 'oxygraph1.ref.hbr.Block5','oxygraph1.ref.hbr.Block7', 'oxygraph1.ref.hbr.Block9', 'oxygraph1.ref.hbr.Block11', 'oxygraph1.ref.hbr.Block13']\n",
        "#sheet_names = ['oxygraph1.hbr.Block1', 'oxygraph1.hbr.Block3', 'oxygraph1.hbr.Block5','oxygraph1.hbr.Block7', 'oxygraph1.hbr.Block9', 'oxygraph1.hbr.Block11', 'oxygraph1.hbr.Block13']\n",
        "\n",
        "def_hbr=brain_signal(sheet_names)\n",
        "print(def_hbr)\n",
        "\n",
        "#Quiz HbR\n",
        "sheet_names = ['oxygraph1.ref.hbr.Block2', 'oxygraph1.ref.hbr.Block4', 'oxygraph1.ref.hbr.Block6','oxygraph1.ref.hbr.Block8', 'oxygraph1.ref.hbr.Block10', 'oxygraph1.ref.hbr.Block12', 'oxygraph1.ref.hbr.Block14']\n",
        "#sheet_names = ['oxygraph1.hbr.Block2', 'oxygraph1.hbr.Block4', 'oxygraph1.hbr.Block6','oxygraph1.hbr.Block8', 'oxygraph1.hbr.Block10', 'oxygraph1.hbr.Block12', 'oxygraph1.hbr.Block14']\n",
        "\n",
        "Q_hbr=brain_signal(sheet_names)\n",
        "print(Q_hbr)\n"
      ],
      "metadata": {
        "colab": {
          "base_uri": "https://localhost:8080/"
        },
        "id": "hX_XlX1rTOPD",
        "outputId": "f309c5df-797a-43e0-98be-d3762801d0eb"
      },
      "execution_count": null,
      "outputs": [
        {
          "output_type": "stream",
          "name": "stdout",
          "text": [
            "(0.45470160017852684, -0.17218458082317642, 0.1650016755058004, 0.2532386524414164, 0.35397012630997166, -0.002712160546670498, 0.177956264848312)\n",
            "(0.20992998348485825, -0.5097515759206253, 0.052305966159947245, 0.09513914465346485, 0.15253456406916152, -0.2498912870713479, -0.04713227363830368)\n",
            "(-0.20562552922332492, 0.25794052583882165, -0.0033252393483234987, -0.032913856104801846, -0.11926969266406338, 0.1275677908717691, 0.0012691853757620703)\n"
          ]
        }
      ]
    },
    {
      "cell_type": "code",
      "source": [
        "data2 = {\n",
        "    'Def Channel 1 hbo': [def_hbo[0]],\n",
        "    'Def Channel 2 hbo': [def_hbo[1]],\n",
        "    'Def Channel 3 hbo': [def_hbo[2]],\n",
        "    'Def Channel 4 hbo': [def_hbo[3]],\n",
        "    'Def LPFC hbo': [def_hbo[4]],\n",
        "    'Def VMPFC hbo': [def_hbo[5]],\n",
        "    'Def HbO': [def_hbo[6]],\n",
        "    'Q Channel 1 hbo': [Q_hbo[0]],\n",
        "    'Q Channel 2 hbo': [Q_hbo[1]],\n",
        "    'Q Channel 3 hbo': [Q_hbo[2]],\n",
        "    'Q Channel 4 hbo': [Q_hbo[3]],\n",
        "    'Q LPFC hbo': [Q_hbo[4]],\n",
        "    'Q VMPFC hbo': [Q_hbo[5]],\n",
        "    'Q HbO': [Q_hbo[6]],\n",
        "    'Def Channel 1 hbr': [def_hbr[0]],\n",
        "    'Def Channel 2 hbr': [def_hbr[1]],\n",
        "    'Def Channel 3 hbr': [def_hbr[2]],\n",
        "    'Def Channel 4 hbr': [def_hbr[3]],\n",
        "    'Def LPFC hbr': [def_hbr[4]],\n",
        "    'Def VMPFC hbr': [def_hbr[5]],\n",
        "    'Def HbR': [def_hbr[6]],\n",
        "    'Q Channel 1 hbr': [Q_hbr[0]],\n",
        "    'Q Channel 2 hbr': [Q_hbr[1]],\n",
        "    'Q Channel 3 hbr': [Q_hbr[2]],\n",
        "    'Q Channel 4 hbr': [Q_hbr[3]],\n",
        "    'Q LPFC hbr': [Q_hbr[4]],\n",
        "    'Q VMPFC hbr': [Q_hbr[5]],\n",
        "    'Q HbR': [Q_hbr[6]]\n",
        "}\n",
        "df2 = pd.DataFrame(data2)\n",
        "print(df2)\n"
      ],
      "metadata": {
        "colab": {
          "base_uri": "https://localhost:8080/"
        },
        "id": "XhOg5vmGBFUD",
        "outputId": "74788a8c-c976-4472-ea6f-a6dea24f99a0"
      },
      "execution_count": null,
      "outputs": [
        {
          "output_type": "stream",
          "name": "stdout",
          "text": [
            "   Def Channel 1 hbo  Def Channel 2 hbo  Def Channel 3 hbo  Def Channel 4 hbo  \\\n",
            "0          -0.260844           0.644794          -0.009811          -0.009339   \n",
            "\n",
            "   Def LPFC hbo  Def VMPFC hbo   Def HbO  Q Channel 1 hbo  Q Channel 2 hbo  \\\n",
            "0     -0.135092       0.318097  0.085418         0.454702        -0.172185   \n",
            "\n",
            "   Q Channel 3 hbo  ...  Def LPFC hbr  Def VMPFC hbr   Def HbR  \\\n",
            "0         0.165002  ...      0.152535      -0.249891 -0.047132   \n",
            "\n",
            "   Q Channel 1 hbr  Q Channel 2 hbr  Q Channel 3 hbr  Q Channel 4 hbr  \\\n",
            "0        -0.205626         0.257941        -0.003325        -0.032914   \n",
            "\n",
            "   Q LPFC hbr  Q VMPFC hbr     Q HbR  \n",
            "0    -0.11927     0.127568  0.001269  \n",
            "\n",
            "[1 rows x 28 columns]\n"
          ]
        }
      ]
    },
    {
      "cell_type": "code",
      "source": [
        "# Create a new Google Sheet\n",
        "sh = gc.create('My new sheet')\n",
        "\n",
        "# Open the first worksheet\n",
        "worksheet = sh.get_worksheet(0)\n",
        "\n",
        "# Upload the DataFrame to the worksheet\n",
        "set_with_dataframe(worksheet, df2)\n"
      ],
      "metadata": {
        "id": "7T9wgSv-BQou"
      },
      "execution_count": null,
      "outputs": []
    },
    {
      "cell_type": "code",
      "source": [],
      "metadata": {
        "id": "8SH_FTXc26no"
      },
      "execution_count": null,
      "outputs": []
    },
    {
      "cell_type": "code",
      "source": [],
      "metadata": {
        "id": "Iqzhue5MRxAO"
      },
      "execution_count": null,
      "outputs": []
    },
    {
      "cell_type": "code",
      "source": [],
      "metadata": {
        "id": "UTDPz6M24TXT"
      },
      "execution_count": null,
      "outputs": []
    },
    {
      "cell_type": "code",
      "source": [],
      "metadata": {
        "id": "51ILAwtRRnF1"
      },
      "execution_count": null,
      "outputs": []
    },
    {
      "cell_type": "code",
      "source": [],
      "metadata": {
        "id": "TgahgoNcyseh"
      },
      "execution_count": null,
      "outputs": []
    },
    {
      "cell_type": "code",
      "source": [],
      "metadata": {
        "id": "9weeB-IjSJ2l"
      },
      "execution_count": null,
      "outputs": []
    },
    {
      "cell_type": "code",
      "source": [],
      "metadata": {
        "id": "SE2Fw_ZPzDfy"
      },
      "execution_count": null,
      "outputs": []
    }
  ]
}