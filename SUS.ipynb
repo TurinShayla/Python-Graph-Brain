{
  "nbformat": 4,
  "nbformat_minor": 0,
  "metadata": {
    "colab": {
      "provenance": [],
      "authorship_tag": "ABX9TyNPFW26vFLTEYBwwKVa9Hkp",
      "include_colab_link": true
    },
    "kernelspec": {
      "name": "python3",
      "display_name": "Python 3"
    },
    "language_info": {
      "name": "python"
    }
  },
  "cells": [
    {
      "cell_type": "markdown",
      "metadata": {
        "id": "view-in-github",
        "colab_type": "text"
      },
      "source": [
        "<a href=\"https://colab.research.google.com/github/TurinShayla/Python-Graph-Brain/blob/main/SUS.ipynb\" target=\"_parent\"><img src=\"https://colab.research.google.com/assets/colab-badge.svg\" alt=\"Open In Colab\"/></a>"
      ]
    },
    {
      "cell_type": "code",
      "execution_count": null,
      "metadata": {
        "id": "Nc06s2FfIra6"
      },
      "outputs": [],
      "source": [
        "from google.colab import auth\n",
        "auth.authenticate_user()\n",
        "\n",
        "import gspread\n",
        "from google.auth import default\n",
        "creds, _ = default()\n",
        "\n",
        "gc = gspread.authorize(creds)"
      ]
    },
    {
      "cell_type": "code",
      "source": [
        "#get the url\n",
        "wb = gc.open_by_key('1SWN0twJvQHvM7_e5LFVMcTVoZ75EZl_YYkyXBeoGS8c')\n",
        "#get the file\n",
        "ws = wb.worksheet('SUS')\n",
        "\n",
        "# get_all_values gives a list of rows.\n",
        "rows = ws.get_all_values()\n",
        "#print(rows)"
      ],
      "metadata": {
        "id": "odno4j_dI2up"
      },
      "execution_count": null,
      "outputs": []
    },
    {
      "cell_type": "code",
      "source": [
        "import pandas as pd\n",
        "from scipy.stats import sem\n",
        "#df=pd.DataFrame.from_records(rows)\n",
        "df=pd.DataFrame.from_records(rows[1:],columns=rows[0])\n",
        "print(df)"
      ],
      "metadata": {
        "colab": {
          "base_uri": "https://localhost:8080/"
        },
        "id": "SgrH2eBrI77K",
        "outputId": "bc5cbeeb-d00f-4cb5-f9f5-e716dd81b7d1"
      },
      "execution_count": null,
      "outputs": [
        {
          "output_type": "stream",
          "name": "stdout",
          "text": [
            "         ID  Condition Q1 Q2 Q3 Q4 Q5 Q6 Q7 Q8 Q9 Q10\n",
            "0    SU6052   Game (G)  4  2  4  1  4  1  4  1  5   1\n",
            "1    MA9343   Game (G)  3  2  4  3  3  1  4  1  3   3\n",
            "2    MY8520  Video (V)  3  4  4  3  4  2  4  3  4   4\n",
            "3    RW9053  Video (V)  3  2  4  4  4  2  4  2  4   4\n",
            "4   NAF5164   Game (G)  4  3  3  4  4  2  4  3  2   2\n",
            "5    sy8932  Video (V)  1  1  5  5  4  3  4  3  3   5\n",
            "6    DH6641  Video (V)  2  3  3  4  3  3  4  3  3   2\n",
            "7    DH5341   Game (G)  4  2  4  2  4  2  4  2  4   2\n",
            "8    KA9055   Game (G)  4  2  4  2  4  2  4  3  4   2\n",
            "9    DH3764   Game (G)  2  4  4  3  4  3  4  4  3   3\n",
            "10   DH9191  Video (V)  4  1  4  2  4  2  4  1  4   1\n",
            "11   NA1730  Video (V)  3  2  4  3  4  3  4  2  4   2\n"
          ]
        }
      ]
    },
    {
      "cell_type": "code",
      "source": [
        "grouped=df.groupby(df.Condition)\n",
        "df_video=grouped.get_group(\"Video (V)\")\n",
        "df_game=grouped.get_group(\"Game (G)\")"
      ],
      "metadata": {
        "id": "_g_ngc4GJAql"
      },
      "execution_count": null,
      "outputs": []
    },
    {
      "cell_type": "code",
      "source": [
        "def calculate_sus(df):\n",
        "    \"\"\"Calculate SUS scores for each response in the DataFrame\"\"\"\n",
        "    sus_scores = []\n",
        "    for _, row in df.iterrows():\n",
        "        sus_score = 0\n",
        "        for i in range(2, 12):  # Adjusted for additional columns\n",
        "            q = f'Q{i-1}'\n",
        "            if (i+1) % 2 == 0:  # even-numbered question\n",
        "                sus_score += 5 - row[q]\n",
        "            else:  # odd-numbered question\n",
        "                sus_score += row[q] - 1\n",
        "        sus_scores.append(sus_score * 2.5)\n",
        "    return sus_scores\n"
      ],
      "metadata": {
        "id": "1ND2VvajKni_"
      },
      "execution_count": null,
      "outputs": []
    },
    {
      "cell_type": "code",
      "source": [
        "import matplotlib.pyplot as plt\n",
        "import numpy as np"
      ],
      "metadata": {
        "id": "IoE1ew8FJZgp"
      },
      "execution_count": null,
      "outputs": []
    },
    {
      "cell_type": "code",
      "source": [
        "# Convert all columns to numeric\n",
        "df_video = df_video.apply(pd.to_numeric, errors='coerce')\n",
        "# Convert all columns to numeric\n",
        "df_game = df_game.apply(pd.to_numeric, errors='coerce')\n",
        "#print(df_game)\n"
      ],
      "metadata": {
        "id": "JnuZIUbrJlLZ"
      },
      "execution_count": null,
      "outputs": []
    },
    {
      "cell_type": "code",
      "source": [
        "# Add SUS scores to each DataFrame\n",
        "df_video['SUS_Score'] = calculate_sus(df_video)\n",
        "df_game['SUS_Score'] = calculate_sus(df_game)\n",
        "\n",
        "# Now that each DataFrame has SUS scores, you can calculate the average SUS score and plot\n",
        "game_sus = df_game['SUS_Score'].mean()\n",
        "video_sus = df_video['SUS_Score'].mean()\n",
        "game_std=df_game['SUS_Score'].std()\n",
        "video_std=df_video['SUS_Score'].std()\n",
        "game_se=sem(df_game['SUS_Score'])\n",
        "video_se=sem(df_video['SUS_Score'])\n",
        "# Create a DataFrame for the means\n",
        "print(game_std,video_std)\n"
      ],
      "metadata": {
        "id": "dKCkZ8RhJIJ_",
        "colab": {
          "base_uri": "https://localhost:8080/"
        },
        "outputId": "d4e51715-5adb-41ea-e3a8-e353dd554d3f"
      },
      "execution_count": null,
      "outputs": [
        {
          "output_type": "stream",
          "name": "stdout",
          "text": [
            "13.291601358251258 12.315302134607444\n"
          ]
        }
      ]
    },
    {
      "cell_type": "code",
      "source": [],
      "metadata": {
        "id": "ySPCssl6BYFk"
      },
      "execution_count": null,
      "outputs": []
    },
    {
      "cell_type": "code",
      "source": [
        "def autolabel(rects, xpos='center'):\n",
        "    \"\"\"\n",
        "    Attach a text label above each bar in *rects*, displaying its height.\n",
        "\n",
        "    *xpos* indicates which side to place the text w.r.t. the center of\n",
        "    the bar. It can be one of the following {'center', 'right', 'left'}.\n",
        "    \"\"\"\n",
        "\n",
        "    ha = {'center': 'center', 'right': 'left', 'left': 'right'}\n",
        "    offset = {'center': 0, 'right': 1, 'left': -1}\n",
        "\n",
        "    for rect in rects:\n",
        "        height = rect.get_height()\n",
        "        ax.annotate('{}'.format(height),\n",
        "                    xy=(rect.get_x() + rect.get_width() / 2, height),\n",
        "                    xytext=(offset[xpos]*3, 3),  # use 3 points offset\n",
        "                    textcoords=\"offset points\",  # in both directions\n",
        "                    ha=ha[xpos], va='bottom')\n",
        "\n"
      ],
      "metadata": {
        "id": "040T0y8cKyVO"
      },
      "execution_count": null,
      "outputs": []
    },
    {
      "cell_type": "code",
      "source": [
        "pre_mean,pre_std=(round(game_sus,2)),(game_std)\n",
        "post_mean,post_std=(round(video_sus,2)),(video_std)\n",
        "\n",
        "ind = 0.5  # the x locations for the groups\n",
        "width = 0.25  # the width of the bars\n",
        "fig, ax = plt.subplots(figsize=(4, 5))\n",
        "#ig, ax = plt.subplots()\n",
        "rects1 = ax.bar(ind - width/2, pre_mean, width, yerr=pre_std,\n",
        "                label='Game',        capsize=10,\n",
        "       color=['lightcyan'],edgecolor='black',zorder=2)\n",
        "rects2 = ax.bar(ind + width, post_mean, width, yerr=post_std,\n",
        "                label='Video',        capsize=10,\n",
        "       color=['lightgray'],edgecolor='black',zorder=2)\n",
        "\n",
        "\n",
        "ax.set_ylabel('SUS Score')\n",
        "#set the label position\n",
        "ax.set_xticks([0.3,0.85])\n",
        "ax.set_xticklabels(['Game','Video'])\n",
        "\n",
        "ax.set_title('SUS Score Game and Video')\n",
        "ax.yaxis.grid(True)\n",
        "ax.legend()\n",
        "\n",
        "autolabel(rects1, \"left\")\n",
        "autolabel(rects2, \"right\")\n",
        "\n",
        "# Save the figure and show\n",
        "plt.tight_layout()\n",
        "plt.savefig('SUS.jpg',dpi=900)\n",
        "plt.savefig('SUS.pdf',dpi=1300)\n",
        "#adjust position of x-axis label\n"
      ],
      "metadata": {
        "colab": {
          "base_uri": "https://localhost:8080/",
          "height": 507
        },
        "id": "SoNlaDQ9L6PF",
        "outputId": "d216bdaa-f0a3-4125-917b-ac268032929f"
      },
      "execution_count": null,
      "outputs": [
        {
          "output_type": "display_data",
          "data": {
            "text/plain": [
              "<Figure size 400x500 with 1 Axes>"
            ],
            "image/png": "[encoded data removed]"
          },
          "metadata": {}
        }
      ]
    },
    {
      "cell_type": "code",
      "source": [
        "pre_mean,pre_std=(round(game_sus,2)),(game_se)\n",
        "post_mean,post_std=(round(video_sus,2)),(video_se)\n",
        "\n",
        "ind = 0.5  # the x locations for the groups\n",
        "width = 0.25  # the width of the bars\n",
        "fig, ax = plt.subplots(figsize=(4, 5))\n",
        "#ig, ax = plt.subplots()\n",
        "rects1 = ax.bar(ind - width/2, pre_mean, width, yerr=pre_std,\n",
        "                label='Game',        capsize=10,\n",
        "       color=['lightcyan'],edgecolor='black',zorder=2)\n",
        "rects2 = ax.bar(ind + width, post_mean, width, yerr=post_std,\n",
        "                label='Video',        capsize=10,\n",
        "       color=['lightgray'],edgecolor='black',zorder=2)\n",
        "\n",
        "\n",
        "ax.set_ylabel('SUS Score')\n",
        "#set the label position\n",
        "ax.set_xticks([0.3,0.85])\n",
        "ax.set_xticklabels(['Game','Video'])\n",
        "\n",
        "ax.set_title('SUS Score Game and Video')\n",
        "ax.yaxis.grid(True)\n",
        "ax.legend()\n",
        "\n",
        "autolabel(rects1, \"left\")\n",
        "autolabel(rects2, \"right\")\n",
        "\n",
        "# Save the figure and show\n",
        "plt.tight_layout()\n",
        "plt.savefig('SUS.jpg',dpi=900)\n",
        "plt.savefig('SUS.pdf',dpi=1300)\n",
        "#adjust position of x-axis label"
      ],
      "metadata": {
        "colab": {
          "base_uri": "https://localhost:8080/",
          "height": 507
        },
        "id": "doAuBrvkCtjE",
        "outputId": "c3afb13a-b5d4-4dc9-e8e1-01d0645e4985"
      },
      "execution_count": null,
      "outputs": [
        {
          "output_type": "display_data",
          "data": {
            "text/plain": [
              "<Figure size 400x500 with 1 Axes>"
            ],
            "image/png": "[encoded data removed]"
          },
          "metadata": {}
        }
      ]
    },
    {
      "cell_type": "code",
      "source": [
        "import scipy.stats as stats\n",
        "\n",
        "# Define the columns for ANOVA and t-test\n",
        "column_definition = 'SUS_Score'\n",
        "column_quiz = 'SUS_Score'\n",
        "\n",
        "# Extract the data from the DataFrames\n",
        "data_definition = df_video['SUS_Score']\n",
        "data_quiz = df_game['SUS_Score']\n",
        "\n",
        "# One-way ANOVA\n",
        "f_value, p_value_anova = stats.f_oneway(data_definition, data_quiz)\n",
        "if p_value_anova <= 0.05:\n",
        "    print(\"ANOVA result: statistically significant (p-value ≤ 0.05)\")\n",
        "else:\n",
        "    print(\"ANOVA result: not statistically significant (p-value > 0.05)\")\n",
        "\n",
        "# Independent samples t-test\n",
        "t_value, p_value_ttest = stats.ttest_ind(pd.to_numeric(data_definition),pd.to_numeric(data_quiz))\n",
        "if p_value_ttest <= 0.05:\n",
        "    print(\"t-test result: statistically significant (p-value ≤ 0.05)\")\n",
        "else:\n",
        "    print(\"t-test result: not statistically significant (p-value > 0.05)\")\n",
        "\n",
        "\n",
        "# Print ANOVA result in APA style\n",
        "anova_result = f\"One-way ANOVA: F({len(data_definition)-1}, {len(data_quiz)-1}) = {f_value:.2f}, p = {p_value_anova:.3f}\"\n",
        "print(\"ANOVA result (APA style):\")\n",
        "print(anova_result)\n",
        "print()\n",
        "\n",
        "# Print t-test result in APA style\n",
        "ttest_result = f\"Independent samples t-test: t({len(data_definition)+len(data_quiz)-2}) = {t_value:.2f}, p = {p_value_ttest:.3f}\"\n",
        "print(\"t-test result (APA style):\")\n",
        "print(ttest_result)"
      ],
      "metadata": {
        "id": "cA1jkkQEBagm"
      },
      "execution_count": null,
      "outputs": []
    },
    {
      "cell_type": "code",
      "source": [
        "import matplotlib.pyplot as plt\n",
        "import numpy as np\n",
        "\n",
        "# Sample data\n",
        "x = ['A', 'B', 'C', 'D']\n",
        "y = [10, 20, 15, 25]\n",
        "\n",
        "# Set the desired figure size\n",
        "fig, ax = plt.subplots(figsize=(8, 6))\n",
        "\n",
        "# Set the desired width of the bars\n",
        "width = 0.5\n",
        "\n",
        "# Create a bar plot\n",
        "ax.bar(x, y, width)\n",
        "\n",
        "# Set other plot properties\n",
        "ax.set_xlabel('X-axis')\n",
        "ax.set_ylabel('Y-axis')\n",
        "ax.set_title('Bar Chart')\n",
        "\n",
        "# Adjust y-axis limits (optional)\n",
        "ax.set_ylim(0, max(y) + 5)\n",
        "\n",
        "# Adjust spines (optional)\n",
        "ax.spines['top'].set_visible(False)\n",
        "ax.spines['right'].set_visible(False)\n",
        "\n",
        "# Show the plot\n",
        "plt.show()\n"
      ],
      "metadata": {
        "id": "LFv1DAGRxCHR"
      },
      "execution_count": null,
      "outputs": []
    }
  ]
}