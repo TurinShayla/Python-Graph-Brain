{
  "nbformat": 4,
  "nbformat_minor": 0,
  "metadata": {
    "colab": {
      "provenance": [],
      "authorship_tag": "ABX9TyP6iYnsLMbQC50RPrG5Pj8F",
      "include_colab_link": true
    },
    "kernelspec": {
      "name": "python3",
      "display_name": "Python 3"
    },
    "language_info": {
      "name": "python"
    }
  },
  "cells": [
    {
      "cell_type": "markdown",
      "metadata": {
        "id": "view-in-github",
        "colab_type": "text"
      },
      "source": [
        "<a href=\"https://colab.research.google.com/github/TurinShayla/Python-Graph-Brain/blob/main/Total_hbo_hbr.ipynb\" target=\"_parent\"><img src=\"https://colab.research.google.com/assets/colab-badge.svg\" alt=\"Open In Colab\"/></a>"
      ]
    },
    {
      "cell_type": "code",
      "execution_count": null,
      "metadata": {
        "id": "XiCb9EAhU161"
      },
      "outputs": [],
      "source": [
        "from google.colab import auth\n",
        "auth.authenticate_user()\n",
        "\n",
        "import gspread\n",
        "from google.auth import default\n",
        "creds, _ = default()\n",
        "\n",
        "gc = gspread.authorize(creds)"
      ]
    },
    {
      "cell_type": "code",
      "source": [
        "#get the url\n",
        "wb = gc.open_by_key('1SWN0twJvQHvM7_e5LFVMcTVoZ75EZl_YYkyXBeoGS8c')\n",
        "#get the file\n",
        "ws = wb.worksheet('total_HbO_HbR')\n",
        "\n",
        "# get_all_values gives a list of rows.\n",
        "rows = ws.get_all_values()\n",
        "print(rows)"
      ],
      "metadata": {
        "colab": {
          "base_uri": "https://localhost:8080/"
        },
        "id": "PNV9d5ISU6Cr",
        "outputId": "a8f43ac3-3e99-487f-d629-1a5a66b49acf"
      },
      "execution_count": null,
      "outputs": [
        {
          "output_type": "stream",
          "name": "stdout",
          "text": [
            "[['ID', 'Condition', 'DelHbO', 'HbOCh1', 'HbOCh2', 'HbOCh3', 'HbOCh4', 'HbOLPFC', 'HbOVMPFC', 'DelHbR', 'HbRCh1', 'HbRCh2', 'HbRCh3', 'HbRCh4', 'HbRLPFC', 'HbRVMPFC'], ['DH3764', 'Game', '-0.027839322', '-0.205771468', '0.11450119', '-0.010279138', '-0.009772194', '-0.107771831', '0.052111026', '-0.04713227364', '0.2099299835', '-0.5097515759', '0.05230596616', '0.09513914465', '0.1525345641', '-0.2498912871'], ['DH5341', 'Game', '0.083206814', '0.190590246', '0.082794184', '0.074897066', '-0.015573881', '0.087508183', '0.078845625', '0.107670073', '0.02076288874', '0.111874809', '0.1851447411', '0.1128978532', '0.06683037098', '0.148509775'], ['DH6528', 'Game', '0.515377891', '1.353577974', '0.181336657', '0.176848093', '0.349216514', '0.851397244', '0.179092375', '-0.2215230148', '-0.8451085152', '-0.03037848405', '-0.01797579565', '0.007370735649', '-0.4188688898', '-0.02417713985'], ['MA9343', 'Game', '-0.021390844', '-0.00727554', '0.026148452', '-0.078936333', '-0.025717276', '-0.016496408', '-0.02639394', '-0.03220689195', '0.003327165247', '-0.05782175097', '-0.03245143589', '-0.04188154617', '-0.01927719046', '-0.04513659343'], ['NAF5164', 'Game', '0.204207962', '0.677550292', '0.005354923', '-0.105319772', '0.238657491', '0.458103892', '-0.049982424', '0.6126075543', '0.7285939545', '0.5312466437', '0.5901433049', '0.6004463142', '0.6645201344', '0.5606949743'], ['SU6058', 'Game', '0.36311001', '0.463491349', '0.592045496', '0.495160699', '-0.096839631', '0.183325859', '0.543603097', '0.2169661813', '0.07004800126', '0.4348537637', '0.001742746689', '0.3612202136', '0.2156341074', '0.2182982552'], ['DH3764', 'Game', '0.214744919', '0.391084981', '0.048583896', '0.16550942', '0.253801378', '0.322443179', '0.107046658', '0.001269185376', '-0.2056255292', '0.2579405258', '-0.003325239348', '-0.0329138561', '-0.1192696927', '0.1275677909'], ['DH5341', 'Game', '0.071286265', '-0.025630564', '0.067241755', '0.120024262', '0.123509608', '0.048939522', '0.093633008', '-0.02688212067', '0.1361263205', '0.01500522776', '-0.120375767', '-0.1382842639', '-0.0010789717', '-0.05268526964'], ['DH6528', 'Game', '-0.259595965', '-0.559949773', '-0.214470585', '-0.136742304', '-0.127221199', '-0.343585486', '-0.175606445', '0.08283985688', '0.4810187931', '-0.0141446837', '-0.005269727781', '-0.1302449541', '0.1753869195', '-0.009707205741'], ['MA9343', 'Game', '-0.117849542', '-0.076946003', '-0.073003617', '-0.140202444', '-0.181246103', '-0.129096053', '-0.10660303', '0.108385097', '0.02316726503', '0.01582472677', '0.09600430662', '0.2985440894', '0.1608556772', '0.0559145167'], ['NAF5164', 'Game', '0.228848814', '0.28695156', '0.154139348', '0.187953256', '0.286351092', '0.286651326', '0.171046302', '0.7845897484', '1.149722873', '0.5722406456', '0.6429410634', '0.7734544118', '0.9615886423', '0.6075908545'], ['SU6058', 'Game', '1.323233001', '1.519167149', '0.877559145', '0.906354614', '1.989851094', '1.754509121', '0.89195688', '0.3902290092', '1.202970288', '0.5605062628', '-0.3036215997', '0.1010610862', '0.6520156869', '0.1284423315'], ['DH6641', 'Video', '-0.14181683', '-0.182891776', '-0.167533626', '-0.151381016', '-0.065535518', '-0.124213647', '-0.159457321', '0.09639538546', '0.03617939525', '0.07262517117', '0.08181758486', '0.1949593906', '0.1155693929', '0.07722137801'], ['DH9191', 'Video', '0.062661947', '0.008340338', '0.044916002', '0.160742233', '0.036658039', '0.022499188', '0.102829118', '0.09997199757', '0.1115830667', '0.05441019763', '0.1622044779', '0.07459301533', '0.09044589447', '0.1083073378'], ['MY8520', 'Video', '-0.082262256', '-0.287669473', '0.063555955', '-0.00191528', '-0.10216316', '-0.194916317', '0.030820338', '0.1342652653', '0.09914331319', '0.08142802122', '0.2532903462', '0.1031993804', '0.1011713468', '0.1673591837'], ['NA1730', 'Video', '0.112055727', '0.366526615', '0.004676219', '0.043019829', '0.034002671', '0.200264643', '0.023848024', '-0.01026008786', '-0.1293757057', '0.0261106126', '-0.03109101423', '0.09331575582', '-0.01802997492', '-0.002490200814'], ['sy8932', 'Video', '0.064401701', '0.315883228', '-0.136620667', '-0.253687181', '0.332031422', '0.323957325', '-0.195153924', '0.1383985372', '0.02727007715', '0.3407264063', '0.1261746372', '0.03164091309', '0.02976769768', '0.2334505217'], ['RW9053', 'Video', '-2.988680928', '1.623674156', '-6.512693986', '-7.151791732', '0.086087852', '0.854881004', '-6.832242859', '1.64630444', '0.5050280414', '2.674228102', '1.359175482', '2.046786134', '1.275907088', '2.016701792'], ['DH6641', 'Video', '0.02694149', '0.05529709', '0.046397904', '-0.001193548', '0.007264516', '0.031280803', '0.022602178', '-0.08739144779', '-0.09523287698', '-0.1115722148', '-0.1139577198', '-0.0288029795', '-0.06201792824', '-0.1127649673'], ['DH9191', 'Video', '0.150371323', '0.115687634', '0.178799423', '0.165872326', '0.141125908', '0.128406771', '0.172335874', '-0.05807427282', '-0.07482027261', '-0.03307522602', '-0.1281746795', '-0.0004134130839', '-0.03230206717', '-0.08062495277'], ['MY8520', 'Video', '-0.165954696', '-0.186443435', '-0.07217712', '-0.2150943', '-0.190103927', '-0.188273681', '-0.14363571', '-0.005879824348', '-0.0205443358', '-0.05024051425', '-0.04376813113', '0.09103368378', '0.03524467399', '-0.04700432269'], ['NA1730', 'Video', '0.013131906', '-0.552417116', '0.08761473', '0.214279837', '0.303050173', '-0.124683471', '0.150947284', '-0.06371719477', '0.03690805108', '-0.1329600406', '-0.1534408486', '-0.005375940903', '0.01576605509', '-0.1432004446'], ['sy8932', 'Video', '-0.409272756', '-0.181763669', '-1.135129702', '0.206962826', '-0.52716048', '-0.354462075', '-0.464083438', '-0.2176524751', '0.3585479143', '-0.5539553219', '-0.5932341499', '0.0170185714', '0.1869264411', '-0.5664488774'], ['RW9053', 'Video', '-3.154496012', '1.47425896', '-6.88580928', '-7.544537887', '0.338104158', '0.906181559', '-7.215173584', '1.465074967', '0.3045017694', '2.685009619', '1.181125698', '1.689662782', '0.9970822755', '1.933067658']]\n"
          ]
        }
      ]
    },
    {
      "cell_type": "code",
      "source": [
        "import pandas as pd\n",
        "from scipy.stats import sem\n",
        "#df=pd.DataFrame.from_records(rows)\n",
        "df=pd.DataFrame.from_records(rows[1:],columns=rows[0])\n",
        "#print(df)"
      ],
      "metadata": {
        "id": "CugUgxc4VAWm"
      },
      "execution_count": null,
      "outputs": []
    },
    {
      "cell_type": "code",
      "source": [
        "grouped=df.groupby(df.Condition)\n",
        "df_video=grouped.get_group(\"Video\")\n",
        "df_game=grouped.get_group(\"Game\")\n",
        "#print(df_game)"
      ],
      "metadata": {
        "id": "NAHueCo2VC4C"
      },
      "execution_count": null,
      "outputs": []
    },
    {
      "cell_type": "code",
      "source": [],
      "metadata": {
        "id": "wB7ueumy_MrZ"
      },
      "execution_count": null,
      "outputs": []
    },
    {
      "cell_type": "code",
      "source": [
        "# Convert all columns to numeric\n",
        "df_video = df_video.apply(pd.to_numeric, errors='coerce')\n",
        "# Convert all columns to numeric\n",
        "df_game = df_game.apply(pd.to_numeric, errors='coerce')\n",
        "#print(df_game)"
      ],
      "metadata": {
        "id": "X2DMO8qvVGN-"
      },
      "execution_count": null,
      "outputs": []
    },
    {
      "cell_type": "code",
      "source": [
        "def calculate_mean_SD(df_X,A):\n",
        "  df_X[A]=pd.to_numeric(df_X[A],errors='coerce')\n",
        "  df_X_mean=df_X[A].mean()\n",
        "  df_X_std=df_X[A].std()\n",
        "  return df_X_mean,df_X_std"
      ],
      "metadata": {
        "id": "xKQ0CGSU_bhK"
      },
      "execution_count": null,
      "outputs": []
    },
    {
      "cell_type": "code",
      "source": [
        "def calculate_mean_SD_SE(df_X,A):\n",
        "  df_X[A]=pd.to_numeric(df_X[A],errors='coerce')\n",
        "  df_X_mean=df_X[A].mean()\n",
        "  df_X_std=df_X[A].std()\n",
        "  df_X_error=sem(df_X[A])\n",
        "  return df_X_mean,df_X_std,df_X_error"
      ],
      "metadata": {
        "id": "Y3bWmZxqAG-E"
      },
      "execution_count": null,
      "outputs": []
    },
    {
      "cell_type": "code",
      "source": [
        "#Condition_1='Def HbO'\n",
        "#Condition_2='Q HbO'\n",
        "Condition_1='DelHbO'\n",
        "Condition_2='DelHbR'\n",
        "HbOCh1='HbOCh1'\n",
        "HbOCh2='HbOCh2'\n",
        "HbOCh3='HbOCh3'\n",
        "HbOCh4='HbOCh4'\n",
        "HbRCh1='HbRCh1'\n",
        "HbRCh2='HbRCh2'\n",
        "HbRCh3='HbRCh3'\n",
        "HbRCh4='HbRCh4'\n"
      ],
      "metadata": {
        "id": "r3AvQkS5VIc8"
      },
      "execution_count": null,
      "outputs": []
    },
    {
      "cell_type": "code",
      "source": [
        "HbOVMPFC='HbOVMPFC'\n",
        "HbOLPFC='HbOLPFC'\n",
        "HbRVMPFC='HbRVMPFC'\n",
        "HbRLPFC='HbRLPFC'"
      ],
      "metadata": {
        "id": "e2exAOKQC5kJ"
      },
      "execution_count": null,
      "outputs": []
    },
    {
      "cell_type": "code",
      "source": [
        "HbO_video= df_video['DelHbO']\n",
        "HbO_game=df_game['DelHbO']\n",
        "\n",
        "HbR_video= df_video['DelHbR']\n",
        "HbR_game=df_game['DelHbR']\n"
      ],
      "metadata": {
        "id": "uXTOLKsYVR4Q"
      },
      "execution_count": null,
      "outputs": []
    },
    {
      "cell_type": "code",
      "source": [
        "HbO_Ch1_video=df_video['HbOCh1']\n",
        "HbO_Ch2_video=df_video['HbOCh2']\n",
        "HbO_Ch3_video=df_video['HbOCh3']\n",
        "HbO_Ch4_video=df_video['HbOCh4']\n",
        "\n",
        "HbR_Ch1_video=df_video['HbRCh1']\n",
        "HbR_Ch2_video=df_video['HbRCh2']\n",
        "HbR_Ch3_video=df_video['HbRCh3']\n",
        "HbR_Ch4_video=df_video['HbRCh4']\n",
        "\n",
        "HbOLPFC_video=df_video['HbOLPFC']\n",
        "HbOVMPFC_video=df_video['HbOVMPFC']"
      ],
      "metadata": {
        "id": "axEP6Fvl-dEh"
      },
      "execution_count": null,
      "outputs": []
    },
    {
      "cell_type": "code",
      "source": [
        "HbO_Ch1_game=df_game['HbOCh1']\n",
        "HbO_Ch2_game=df_game['HbOCh2']\n",
        "HbO_Ch3_game=df_game['HbOCh3']\n",
        "HbO_Ch4_game=df_game['HbOCh4']\n",
        "\n",
        "HbR_Ch1_game=df_game['HbRCh1']\n",
        "HbR_Ch2_game=df_game['HbRCh2']\n",
        "HbR_Ch3_game=df_game['HbRCh3']\n",
        "HbR_Ch4_game=df_game['HbRCh4']\n",
        "\n",
        "HbOLPFC_game=df_game['HbOLPFC']\n",
        "HbOVMPFC_game=df_game['HbOVMPFC']"
      ],
      "metadata": {
        "id": "mNisrqz4-11e"
      },
      "execution_count": null,
      "outputs": []
    },
    {
      "cell_type": "code",
      "source": [
        "HbO_Ch1_video_mean,HbO_Ch1_video_sd,HbO_Ch1_video_se= calculate_mean_SD_SE(df_video,HbOCh1)\n",
        "HbO_Ch2_video_mean,HbO_Ch2_video_sd,HbO_Ch2_video_se= calculate_mean_SD_SE(df_video,HbOCh2)\n",
        "HbO_Ch3_video_mean,HbO_Ch3_video_sd,HbO_Ch3_video_se= calculate_mean_SD_SE(df_video,HbOCh3)\n",
        "HbO_Ch4_video_mean,HbO_Ch4_video_sd,HbO_Ch4_video_se= calculate_mean_SD_SE(df_video,HbOCh4)"
      ],
      "metadata": {
        "id": "8N2pGx1kVpt9"
      },
      "execution_count": null,
      "outputs": []
    },
    {
      "cell_type": "code",
      "source": [
        "HbO_Ch1_game_mean,HbO_Ch1_game_sd,HbO_Ch1_game_se= calculate_mean_SD_SE(df_game,HbOCh1)\n",
        "HbO_Ch2_game_mean,HbO_Ch2_game_sd,HbO_Ch2_game_se= calculate_mean_SD_SE(df_game,HbOCh2)\n",
        "HbO_Ch3_game_mean,HbO_Ch3_game_sd,HbO_Ch3_game_se= calculate_mean_SD_SE(df_game,HbOCh3)\n",
        "HbO_Ch4_game_mean,HbO_Ch4_game_sd,HbO_Ch4_game_se= calculate_mean_SD_SE(df_game,HbOCh4)"
      ],
      "metadata": {
        "id": "BV5RZ-U3CBKS"
      },
      "execution_count": null,
      "outputs": []
    },
    {
      "cell_type": "code",
      "source": [
        "HbR_Ch1_video_mean,HbR_Ch1_video_sd,HbR_Ch1_video_se= calculate_mean_SD_SE(df_video,HbRCh1)\n",
        "HbR_Ch2_video_mean,HbR_Ch2_video_sd,HbR_Ch2_video_se= calculate_mean_SD_SE(df_video,HbRCh2)\n",
        "HbR_Ch3_video_mean,HbR_Ch3_video_sd,HbR_Ch3_video_se= calculate_mean_SD_SE(df_video,HbRCh3)\n",
        "HbR_Ch4_video_mean,HbR_Ch4_video_sd,HbR_Ch4_video_se= calculate_mean_SD_SE(df_video,HbRCh4)"
      ],
      "metadata": {
        "id": "s1RK5FPrCSa9"
      },
      "execution_count": null,
      "outputs": []
    },
    {
      "cell_type": "code",
      "source": [
        "HbR_Ch1_game_mean,HbR_Ch1_game_sd,HbR_Ch1_game_se= calculate_mean_SD_SE(df_game,HbRCh1)\n",
        "HbR_Ch2_game_mean,HbR_Ch2_game_sd,HbR_Ch2_game_se= calculate_mean_SD_SE(df_game,HbRCh2)\n",
        "HbR_Ch3_game_mean,HbR_Ch3_game_sd,HbR_Ch3_game_se= calculate_mean_SD_SE(df_game,HbRCh3)\n",
        "HbR_Ch4_game_mean,HbR_Ch4_game_sd,HbR_Ch4_game_se= calculate_mean_SD_SE(df_game,HbRCh4)"
      ],
      "metadata": {
        "id": "4gLF3LtlCbkN"
      },
      "execution_count": null,
      "outputs": []
    },
    {
      "cell_type": "code",
      "source": [
        "print(\"Channel Mean SD SE HbO Game\\n\")\n",
        "print(round(HbO_Ch1_game_mean,2),(round(HbO_Ch1_game_sd,2)),[round(HbO_Ch1_game_se,2)],\"\\n\")\n",
        "print(round(HbO_Ch2_game_mean,2),round(HbO_Ch2_game_sd,2),[round(HbO_Ch2_game_se,2)],\"\\n\")\n",
        "print(round(HbO_Ch3_game_mean,2),round(HbO_Ch3_game_sd,2),[round(HbO_Ch3_game_se,2)],\"\\n\")\n",
        "print(round(HbO_Ch4_game_mean,2),round(HbO_Ch4_game_sd,2),[round(HbO_Ch4_game_se,2)],\"\\n\")"
      ],
      "metadata": {
        "colab": {
          "base_uri": "https://localhost:8080/"
        },
        "id": "8WAPgrKdErKm",
        "outputId": "c0058443-b3e7-47c5-8cf5-7ba975c180ee"
      },
      "execution_count": null,
      "outputs": [
        {
          "output_type": "stream",
          "name": "stdout",
          "text": [
            "Channel Mean SD SE HbO Game\n",
            "\n",
            "0.33 0.61 [0.18] \n",
            "\n",
            "0.16 0.3 [0.09] \n",
            "\n",
            "0.14 0.3 [0.09] \n",
            "\n",
            "0.23 0.58 [0.17] \n",
            "\n"
          ]
        }
      ]
    },
    {
      "cell_type": "code",
      "source": [
        "print(\"Channel Mean SD SE HbO Video\\n\")\n",
        "print(round(HbO_Ch1_video_mean,2),round(HbO_Ch1_video_sd,2),[round(HbO_Ch1_video_se,2)],\"\\n\")\n",
        "print(round(HbO_Ch2_video_mean,2),round(HbO_Ch2_video_sd,2),[round(HbO_Ch2_video_se,2)],\"\\n\")\n",
        "print(round(HbO_Ch3_video_mean,2),round(HbO_Ch3_video_sd,2),[round(HbO_Ch3_video_se,2)],\"\\n\")\n",
        "print(round(HbO_Ch4_video_mean,2),round(HbO_Ch4_video_sd,2),[round(HbO_Ch4_video_se,2)],\"\\n\")"
      ],
      "metadata": {
        "colab": {
          "base_uri": "https://localhost:8080/"
        },
        "id": "CV1QQH3MDy53",
        "outputId": "795b889b-b35c-4287-a8aa-6023f17687b4"
      },
      "execution_count": null,
      "outputs": [
        {
          "output_type": "stream",
          "name": "stdout",
          "text": [
            "Channel Mean SD SE HbO Video\n",
            "\n",
            "0.21 0.67 [0.19] \n",
            "\n",
            "-1.21 2.59 [0.75] \n",
            "\n",
            "-1.21 2.87 [0.83] \n",
            "\n",
            "0.03 0.25 [0.07] \n",
            "\n"
          ]
        }
      ]
    },
    {
      "cell_type": "code",
      "source": [
        "print(\"Channel Mean SD SE HbR Game\\n\")\n",
        "print(round(HbR_Ch1_game_mean,2),round(HbR_Ch1_game_sd,2),[round(HbR_Ch1_game_se,2)],\"\\n\")\n",
        "print(round(HbR_Ch2_game_mean,2),round(HbR_Ch2_game_sd,2),[round(HbR_Ch2_game_se,2)],\"\\n\")\n",
        "print(round(HbR_Ch3_game_mean,2),round(HbR_Ch3_game_sd,2),[round(HbR_Ch3_game_se,2)],\"\\n\")\n",
        "print(round(HbR_Ch4_game_mean,2),round(HbR_Ch4_game_sd,2),[round(HbR_Ch4_game_se,2)],\"\\n\")"
      ],
      "metadata": {
        "colab": {
          "base_uri": "https://localhost:8080/"
        },
        "id": "TXW2MIMEGpue",
        "outputId": "ca604724-abcc-477c-e1a5-a7ad6b1a4c61"
      },
      "execution_count": null,
      "outputs": [
        {
          "output_type": "stream",
          "name": "stdout",
          "text": [
            "Channel Mean SD SE HbR Game\n",
            "\n",
            "0.25 0.57 [0.17] \n",
            "\n",
            "0.16 0.32 [0.09] \n",
            "\n",
            "0.09 0.27 [0.08] \n",
            "\n",
            "0.17 0.29 [0.08] \n",
            "\n"
          ]
        }
      ]
    },
    {
      "cell_type": "code",
      "source": [
        "print(\"Channel Mean SD SE HbR Video\\n\")\n",
        "print(round(HbR_Ch1_video_mean,2),round(HbR_Ch1_video_sd,2),[round(HbR_Ch1_video_se,2)],\"\\n\")\n",
        "print(round(HbR_Ch2_video_mean,2),round(HbR_Ch2_video_sd,2),[round(HbR_Ch2_video_se,2)],\"\\n\")\n",
        "print(round(HbR_Ch3_video_mean,2),round(HbR_Ch3_video_sd,2),[round(HbR_Ch3_video_se,2)],\"\\n\")\n",
        "print(round(HbR_Ch4_video_mean,2),round(HbR_Ch4_video_sd,2),[round(HbR_Ch4_video_se,2)],\"\\n\")"
      ],
      "metadata": {
        "colab": {
          "base_uri": "https://localhost:8080/"
        },
        "id": "z_FdVyu8Eho5",
        "outputId": "648521ac-90c7-4f7f-b43e-82bc1b39470e"
      },
      "execution_count": null,
      "outputs": [
        {
          "output_type": "stream",
          "name": "stdout",
          "text": [
            "Channel Mean SD SE HbR Video\n",
            "\n",
            "0.1 0.2 [0.06] \n",
            "\n",
            "0.42 1.07 [0.31] \n",
            "\n",
            "0.18 0.56 [0.16] \n",
            "\n",
            "0.36 0.71 [0.21] \n",
            "\n"
          ]
        }
      ]
    },
    {
      "cell_type": "code",
      "source": [
        "HbO_LPFC_video_mean,HbO_LPFC_video_sd,HbO_LPFC_video_se= calculate_mean_SD_SE(df_video,HbOLPFC)\n",
        "HbO_LPFC_game_mean,HbO_LPFC_game_sd,HbO_LPFC_game_se= calculate_mean_SD_SE(df_game,HbOLPFC)\n",
        "\n",
        "HbO_VMPFC_video_mean,HbO_VMPFC_video_sd,HbO_VMPFC_video_se= calculate_mean_SD_SE(df_video,HbOVMPFC)\n",
        "HbO_VMPFC_game_mean,HbO_VMPFC_game_sd,HbO_VMPFC_game_se= calculate_mean_SD_SE(df_game,HbOVMPFC)"
      ],
      "metadata": {
        "id": "dQYwKiU2CoV0"
      },
      "execution_count": null,
      "outputs": []
    },
    {
      "cell_type": "code",
      "source": [
        "print(\"LPFC Mean SD SE Video HbO\\n\")\n",
        "print(round(HbO_LPFC_video_mean,2),round(HbO_LPFC_video_sd,2),[round(HbO_LPFC_video_se,2)],\"\\n\")\n",
        "print(\"LPFC Mean SD SE Game HbO \\n\")\n",
        "print(round(HbO_LPFC_game_mean,2),round(HbO_LPFC_game_sd,2),[round(HbO_LPFC_game_se,2)],\"\\n\")\n",
        "print(\"VMPFC Mean SD SE Video HbO\\n\")\n",
        "print(round(HbO_VMPFC_video_mean,2),round(HbO_VMPFC_video_sd,2),[round(HbO_VMPFC_video_se,2)],\"\\n\")\n",
        "print(\"VMPFC Mean SD SE Game HbO\\n\")\n",
        "print(round(HbO_VMPFC_game_mean,2),round(HbO_VMPFC_game_sd,2),[round(HbO_VMPFC_game_se,2)],\"\\n\")"
      ],
      "metadata": {
        "colab": {
          "base_uri": "https://localhost:8080/"
        },
        "id": "fr9nzmkxH4L7",
        "outputId": "75fab7ae-8041-4b6a-fde3-063250eab1f1"
      },
      "execution_count": null,
      "outputs": [
        {
          "output_type": "stream",
          "name": "stdout",
          "text": [
            "LPFC Mean SD SE Video HbO\n",
            "\n",
            "0.12 0.4 [0.12] \n",
            "\n",
            "LPFC Mean SD SE Game HbO \n",
            "\n",
            "0.28 0.56 [0.16] \n",
            "\n",
            "VMPFC Mean SD SE Video HbO\n",
            "\n",
            "-1.21 2.72 [0.79] \n",
            "\n",
            "VMPFC Mean SD SE Game HbO\n",
            "\n",
            "0.15 0.3 [0.09] \n",
            "\n"
          ]
        }
      ]
    },
    {
      "cell_type": "code",
      "source": [
        "HbR_LPFC_video_mean,HbR_LPFC_video_sd,HbR_LPFC_video_se= calculate_mean_SD_SE(df_video,HbRLPFC)\n",
        "HbR_LPFC_game_mean,HbR_LPFC_game_sd,HbR_LPFC_game_se= calculate_mean_SD_SE(df_game,HbRLPFC)\n",
        "\n",
        "HbR_VMPFC_video_mean,HbR_VMPFC_video_sd,HbR_VMPFC_video_se= calculate_mean_SD_SE(df_video,HbRVMPFC)\n",
        "HbR_VMPFC_game_mean,HbR_VMPFC_game_sd,HbR_VMPFC_game_se= calculate_mean_SD_SE(df_game,HbRVMPFC)"
      ],
      "metadata": {
        "id": "s2tIh0ZHJKNR"
      },
      "execution_count": null,
      "outputs": []
    },
    {
      "cell_type": "code",
      "source": [
        "print(\"LPFC Mean SD SE Video HbR\\n\")\n",
        "print(round(HbR_LPFC_video_mean,2),round(HbR_LPFC_video_sd,2),[round(HbR_LPFC_video_se,2)],\"\\n\")\n",
        "print(\"LPFC Mean SD SE Game HbR \\n\")\n",
        "print(round(HbR_LPFC_game_mean,2),round(HbR_LPFC_game_sd,2),[round(HbR_LPFC_game_se,2)],\"\\n\")\n",
        "print(\"VMPFC Mean SD SE Video HbR\\n\")\n",
        "print(round(HbR_VMPFC_video_mean,2),round(HbR_VMPFC_video_sd,2),[round(HbR_VMPFC_video_se,2)],\"\\n\")\n",
        "print(\"VMPFC Mean SD SE Game HbR\\n\")\n",
        "print(round(HbR_VMPFC_game_mean,2),round(HbR_VMPFC_game_sd,2),[round(HbR_VMPFC_game_se,2)],\"\\n\")"
      ],
      "metadata": {
        "colab": {
          "base_uri": "https://localhost:8080/"
        },
        "id": "Ychr99arJWsQ",
        "outputId": "0798e2af-b2da-4b57-b95f-57580916aff2"
      },
      "execution_count": null,
      "outputs": [
        {
          "output_type": "stream",
          "name": "stdout",
          "text": [
            "LPFC Mean SD SE Video HbR\n",
            "\n",
            "0.23 0.43 [0.13] \n",
            "\n",
            "LPFC Mean SD SE Game HbR \n",
            "\n",
            "0.21 0.38 [0.11] \n",
            "\n",
            "VMPFC Mean SD SE Video HbR\n",
            "\n",
            "0.3 0.81 [0.23] \n",
            "\n",
            "VMPFC Mean SD SE Game HbR\n",
            "\n",
            "0.12 0.25 [0.07] \n",
            "\n"
          ]
        }
      ]
    },
    {
      "cell_type": "code",
      "source": [
        "HbO_video_mean,HbO_video_sd,HbO_video_se=calculate_mean_SD_SE(df_video,'DelHbO')\n",
        "HbO_game_mean,HbO_game_sd,HbO_game_se=calculate_mean_SD_SE(df_game,'DelHbO')\n",
        "HbR_video_mean,HbR_video_sd,HbR_video_se= calculate_mean_SD_SE(df_video,'DelHbR')\n",
        "HbR_game_mean,HbR_game_sd,HbR_game_se=calculate_mean_SD_SE(df_game,'DelHbR')\n"
      ],
      "metadata": {
        "id": "nZ-JU6Y5VqnB"
      },
      "execution_count": null,
      "outputs": []
    },
    {
      "cell_type": "code",
      "source": [
        "print(\"DelHbo Mean SD SE Video \\n\")\n",
        "print(round(HbO_video_mean,2),round(HbO_video_sd,2),round(HbO_video_se,2),\"\\n\")\n",
        "print(\"DelHbo Mean SD SE Game \\n\")\n",
        "print(round(HbO_game_mean,2),round(HbO_game_sd,2),round(HbO_game_se,2),\"\\n\")\n",
        "print(\"DelHbR Mean SD SE Video\\n\")\n",
        "print(round(HbR_video_mean,2),round(HbR_video_sd,2),round(HbR_video_se,2),\"\\n\")\n",
        "print(\"DelHbR Mean SD SE Game\\n\")\n",
        "print(round(HbR_game_mean,2),round(HbR_game_sd,2),round(HbR_game_se,2),\"\\n\")"
      ],
      "metadata": {
        "colab": {
          "base_uri": "https://localhost:8080/"
        },
        "id": "XLDwqf2HH2EC",
        "outputId": "583af2d8-9db6-4faf-a011-a10c6bc8d763"
      },
      "execution_count": null,
      "outputs": [
        {
          "output_type": "stream",
          "name": "stdout",
          "text": [
            "DelHbo Mean SD SE Video \n",
            "\n",
            "-0.54 1.19 0.34 \n",
            "\n",
            "DelHbo Mean SD SE Game \n",
            "\n",
            "0.21 0.41 0.12 \n",
            "\n",
            "DelHbR Mean SD SE Video\n",
            "\n",
            "0.26 0.61 0.18 \n",
            "\n",
            "DelHbR Mean SD SE Game\n",
            "\n",
            "0.16 0.29 0.08 \n",
            "\n"
          ]
        }
      ]
    },
    {
      "cell_type": "markdown",
      "source": [
        "# Mean and SD for HbO and HbR"
      ],
      "metadata": {
        "id": "hRiZgdF3DBH1"
      }
    },
    {
      "cell_type": "code",
      "source": [
        "import numpy as np\n",
        "import matplotlib.pyplot as plt"
      ],
      "metadata": {
        "id": "IRHL7HrZV-y-"
      },
      "execution_count": null,
      "outputs": []
    },
    {
      "cell_type": "code",
      "source": [
        "labels = ['Game', 'Video']\n",
        "x_pos = np.arange(len(labels))\n",
        "CTEs = [HbO_game_mean, HbO_video_mean,HbR_game_mean, HbR_video_mean ]\n",
        "error = [HbO_game_sd, HbO_video_sd, HbR_game_sd, HbR_video_sd]"
      ],
      "metadata": {
        "id": "Kn7x9n-JV_o2"
      },
      "execution_count": null,
      "outputs": []
    },
    {
      "cell_type": "code",
      "source": [
        "def autolabel(rects, xpos='center'):\n",
        "    \"\"\"\n",
        "    Attach a text label above each bar in *rects*, displaying its height.\n",
        "\n",
        "    *xpos* indicates which side to place the text w.r.t. the center of\n",
        "    the bar. It can be one of the following {'center', 'right', 'left'}.\n",
        "    \"\"\"\n",
        "\n",
        "    ha = {'center': 'center', 'right': 'left', 'left': 'right'}\n",
        "    offset = {'center': 0, 'right': 1, 'left': -1}\n",
        "\n",
        "    for rect in rects:\n",
        "        height = rect.get_height()\n",
        "        ax.annotate('{}'.format(height),\n",
        "                    xy=(rect.get_x() + rect.get_width() / 2, height),\n",
        "                    xytext=(offset[xpos]*3, 3),  # use 3 points offset\n",
        "                    textcoords=\"offset points\",  # in both directions\n",
        "                    ha=ha[xpos], va='bottom')"
      ],
      "metadata": {
        "id": "4AA-hvk8WKEv"
      },
      "execution_count": null,
      "outputs": []
    },
    {
      "cell_type": "markdown",
      "source": [
        "# Bar plot"
      ],
      "metadata": {
        "id": "nDv2G5RPFOJZ"
      }
    },
    {
      "cell_type": "code",
      "source": [
        "\n",
        "#HbO_HbR_game,HbO_HbR_game_std=(round(HbO_game_mean,2),round(HbR_game_mean,2)),(round(HbO_game_sd,2),round(HbR_video_sd,2))\n",
        "\n",
        "HbO_HbR_game,HbO_HbR_game_std=(round(HbO_game_mean,2),round(HbR_game_mean,2)),(round(HbO_game_se,2),round(HbR_video_se,2))\n",
        "\n",
        "#Q_mean,Q_std=(round(Q_game_mean,2),round(Q_video_mean,2)), (round(Q_game_std,2),round(Q_video_std,2))\n",
        "#HbO_HbR_video,HbO_HbR_video_std=(round(HbO_video_mean,2),round(HbR_video_mean,2)), (round(HbO_video_sd,2),round(HbR_video_sd,2))\n",
        "HbO_HbR_video,HbO_HbR_video_std=(round(HbO_video_mean,2),round(HbR_video_mean,2)), (round(HbO_video_se,2),round(HbR_video_se,2))\n",
        "\n",
        "ind = np.arange(len(HbO_HbR_game))  # the x locations for the groups\n",
        "width = 0.35  # the width of the bars\n",
        "\n",
        "fig, ax = plt.subplots()\n",
        "rects1 = ax.bar(ind - width/2, HbO_HbR_game, width, yerr=HbO_HbR_game_std, align='center',\n",
        "                label='Game',        capsize=10,\n",
        "       color=['lightcyan'],edgecolor='black',zorder=2)\n",
        "rects2 = ax.bar(ind + width/2, HbO_HbR_video, width, yerr=HbO_HbR_video_std, align='center',\n",
        "                label='Video',        capsize=10,\n",
        "       color=['lightgray'],edgecolor='black',zorder=2)\n",
        "\n",
        "# Add some text for labels, title and custom x-axis tick labels, etc.\n",
        "ax.set_ylabel('oxygenation and deoxygenation')\n",
        "ax.set_title('\\u0394 HbO and \\u0394 HbR Game vs Video')\n",
        "#ax.set_title('\\u0394 HbR')\n",
        "ax.set_xticks(ind)\n",
        "ax.set_xticklabels(('\\u0394 HbO', '\\u0394 HbR'))\n",
        "ax.legend(),\n",
        "ax.yaxis.grid(True)\n",
        "autolabel(rects1, \"left\")\n",
        "autolabel(rects2, \"right\")\n",
        "\n",
        "fig.tight_layout()\n",
        "\n",
        "plt.savefig('delHbr.jpg',dpi=900)\n",
        "plt.savefig('delHbr.pdf',dpi=1300)\n"
      ],
      "metadata": {
        "colab": {
          "base_uri": "https://localhost:8080/",
          "height": 487
        },
        "id": "OMChEbQAWK4o",
        "outputId": "e466c4ca-eddf-4c9c-afe0-a36ac8087bc7"
      },
      "execution_count": null,
      "outputs": [
        {
          "output_type": "display_data",
          "data": {
            "text/plain": [
              "<Figure size 640x480 with 1 Axes>"
            ],
            "image/png": "[encoded data removed]"
          },
          "metadata": {}
        }
      ]
    },
    {
      "cell_type": "code",
      "source": [
        "\n",
        "HbO_HbR_game,HbO_HbR_game_std=(round(HbO_game_mean,2),round(HbR_game_mean,2)),(round(HbO_game_sd,2),round(HbR_video_sd,2))\n",
        "\n",
        "#HbO_HbR_game,HbO_HbR_game_std=(round(HbO_game_mean,2),round(HbR_game_mean,2)),(round(HbO_game_se,2),round(HbR_video_se,2))\n",
        "\n",
        "#Q_mean,Q_std=(round(Q_game_mean,2),round(Q_video_mean,2)), (round(Q_game_std,2),round(Q_video_std,2))\n",
        "HbO_HbR_video,HbO_HbR_video_std=(round(HbO_video_mean,2),round(HbR_video_mean,2)), (round(HbO_video_sd,2),round(HbR_video_sd,2))\n",
        "#HbO_HbR_video,HbO_HbR_video_std=(round(HbO_video_mean,2),round(HbR_video_mean,2)), (round(HbO_video_se,2),round(HbR_video_se,2))\n",
        "\n",
        "ind = np.arange(len(HbO_HbR_game))  # the x locations for the groups\n",
        "width = 0.35  # the width of the bars\n",
        "\n",
        "fig, ax = plt.subplots()\n",
        "rects1 = ax.bar(ind - width/2, HbO_HbR_game, width, yerr=HbO_HbR_game_std, align='center',\n",
        "                label='Game',        capsize=10,\n",
        "       color=['lightcyan'],edgecolor='black',zorder=2)\n",
        "rects2 = ax.bar(ind + width/2, HbO_HbR_video, width, yerr=HbO_HbR_video_std, align='center',\n",
        "                label='Video',        capsize=10,\n",
        "       color=['lightgray'],edgecolor='black',zorder=2)\n",
        "\n",
        "# Add some text for labels, title and custom x-axis tick labels, etc.\n",
        "ax.set_ylabel('oxygenation and deoxygenation')\n",
        "ax.set_title('\\u0394 HbO and \\u0394 HbR Game vs Video')\n",
        "#ax.set_title('\\u0394 HbR')\n",
        "ax.set_xticks(ind)\n",
        "ax.set_xticklabels(('\\u0394 HbO', '\\u0394 HbR'))\n",
        "ax.legend(),\n",
        "ax.yaxis.grid(True)\n",
        "autolabel(rects1, \"left\")\n",
        "autolabel(rects2, \"right\")\n",
        "\n",
        "fig.tight_layout()\n",
        "\n",
        "plt.savefig('delHbr.jpg',dpi=900)\n",
        "plt.savefig('delHbr.pdf',dpi=1300)\n",
        "#"
      ],
      "metadata": {
        "colab": {
          "base_uri": "https://localhost:8080/",
          "height": 487
        },
        "id": "ckGW8LI80vvZ",
        "outputId": "40e647bb-2030-478d-cd4a-0f7813866a39"
      },
      "execution_count": null,
      "outputs": [
        {
          "output_type": "display_data",
          "data": {
            "text/plain": [
              "<Figure size 640x480 with 1 Axes>"
            ],
            "image/png": "[encoded data removed]"
          },
          "metadata": {}
        }
      ]
    },
    {
      "cell_type": "markdown",
      "source": [
        "# Box plot"
      ],
      "metadata": {
        "id": "oA9yBl3zFRSI"
      }
    },
    {
      "cell_type": "code",
      "source": [
        "data = [HbO_game, HbO_video, HbR_game, HbR_video]\n",
        "\n",
        "# Create the boxplot\n",
        "plt.boxplot(data, labels=['\\u0394 HbO Game', '\\u0394 HbO Video', '\\u0394 HbR Game', '\\u0394 HbR Video'])\n",
        "\n",
        "# Set the title and labels\n",
        "plt.title('\\u0394 HbO and \\u0394 HbR Game vs Video')\n",
        "plt.xlabel('')\n",
        "plt.ylabel('Oxygenation and Deoxygention')\n",
        "for i, data1 in enumerate(data):\n",
        "    mean_value = np.mean(data1)\n",
        "    print(mean_value)\n",
        "    ax.plot(i+1 , mean_value, 'ro', markersize=4)\n",
        "# Display the plot\n",
        "#plt.show()\n",
        "# Save the figure\n",
        "plt.savefig('hbo_box.jpg', dpi=900)\n",
        "plt.savefig('hbo_box.pdf', dpi=1300)"
      ],
      "metadata": {
        "colab": {
          "base_uri": "https://localhost:8080/",
          "height": 524
        },
        "id": "z91HT9_xZGHD",
        "outputId": "5875fb8e-8ac4-470c-d543-9b8744670a5c"
      },
      "execution_count": null,
      "outputs": [
        {
          "output_type": "stream",
          "name": "stdout",
          "text": [
            "0.21477833358333331\n",
            "-0.542743282\n",
            "0.164734367033\n",
            "0.2614529408201667\n"
          ]
        },
        {
          "output_type": "display_data",
          "data": {
            "text/plain": [
              "<Figure size 640x480 with 1 Axes>"
            ],
            "image/png": "[encoded data removed]"
          },
          "metadata": {}
        }
      ]
    },
    {
      "cell_type": "markdown",
      "source": [
        "# Anova t test from data frame:HbO"
      ],
      "metadata": {
        "id": "04XXE5MUC2X0"
      }
    },
    {
      "cell_type": "code",
      "source": [
        "import scipy.stats as stats\n",
        "\n",
        "column_definition = 'DelHbO' %df_video['DelHbO']\n",
        "column_quiz = 'DelHbO'\n",
        "\n",
        "# Extract the data from the DataFrames\n",
        "data_definition = df_video[column_definition]\n",
        "data_quiz = df_game[column_quiz]\n",
        "\n",
        "# One-way ANOVA\n",
        "f_value, p_value_anova = stats.f_oneway(data_definition, data_quiz)\n",
        "if p_value_anova <= 0.05:\n",
        "    print(\"ANOVA result: statistically significant (p-value ≤ 0.05)\")\n",
        "else:\n",
        "    print(\"ANOVA result: not statistically significant (p-value > 0.05)\")\n",
        "\n",
        "# Independent samples t-test\n",
        "t_value, p_value_ttest = stats.ttest_ind(pd.to_numeric(data_definition),pd.to_numeric(data_quiz))\n",
        "if p_value_ttest <= 0.05:\n",
        "    print(\"t-test result: statistically significant (p-value ≤ 0.05)\")\n",
        "else:\n",
        "    print(\"t-test result: not statistically significant (p-value > 0.05)\")\n",
        "\n",
        "\n",
        "# Print ANOVA result in APA style\n",
        "anova_result = f\"One-way ANOVA: F({len(data_definition)-1}, {len(data_quiz)-1}) = {f_value:.2f}, p = {p_value_anova:.3f}\"\n",
        "print(\"ANOVA result (APA style):\")\n",
        "print(anova_result)\n",
        "print()\n",
        "\n",
        "# Print t-test result in APA style\n",
        "ttest_result = f\"Independent samples t-test: t({len(data_definition)+len(data_quiz)-2}) = {t_value:.2f}, p = {p_value_ttest:.3f}\"\n",
        "print(\"t-test result (APA style):\")\n",
        "print(ttest_result)"
      ],
      "metadata": {
        "id": "gx_WcA_hY0Ir",
        "colab": {
          "base_uri": "https://localhost:8080/"
        },
        "outputId": "2e71e30e-497d-41d0-9e94-131ffc68b63f"
      },
      "execution_count": null,
      "outputs": [
        {
          "output_type": "stream",
          "name": "stdout",
          "text": [
            "ANOVA result: statistically significant (p-value ≤ 0.05)\n",
            "t-test result: statistically significant (p-value ≤ 0.05)\n",
            "ANOVA result (APA style):\n",
            "One-way ANOVA: F(11, 11) = 4.34, p = 0.049\n",
            "\n",
            "t-test result (APA style):\n",
            "Independent samples t-test: t(22) = -2.08, p = 0.049\n"
          ]
        }
      ]
    },
    {
      "cell_type": "markdown",
      "source": [
        "# Anova t test from data frame:HbR"
      ],
      "metadata": {
        "id": "xBI8vY1BCsiE"
      }
    },
    {
      "cell_type": "code",
      "source": [
        "\n",
        "column_definition = 'DelHbR' %df_video['DelHbR']\n",
        "column_quiz = 'DelHbR'\n",
        "\n",
        "# Extract the data from the DataFrames\n",
        "data_definition = df_video[column_definition]\n",
        "data_quiz = df_game[column_quiz]\n",
        "\n",
        "# One-way ANOVA\n",
        "f_value, p_value_anova = stats.f_oneway(data_definition, data_quiz)\n",
        "if p_value_anova <= 0.05:\n",
        "    print(\"ANOVA result: statistically significant (p-value ≤ 0.05)\")\n",
        "else:\n",
        "    print(\"ANOVA result: not statistically significant (p-value > 0.05)\")\n",
        "\n",
        "# Independent samples t-test\n",
        "t_value, p_value_ttest = stats.ttest_ind(pd.to_numeric(data_definition),pd.to_numeric(data_quiz))\n",
        "if p_value_ttest <= 0.05:\n",
        "    print(\"t-test result: statistically significant (p-value ≤ 0.05)\")\n",
        "else:\n",
        "    print(\"t-test result: not statistically significant (p-value > 0.05)\")\n",
        "\n",
        "\n",
        "# Print ANOVA result in APA style\n",
        "anova_result = f\"One-way ANOVA: F({len(data_definition)-1}, {len(data_quiz)-1}) = {f_value:.2f}, p = {p_value_anova:.3f}\"\n",
        "print(\"ANOVA result (APA style):\")\n",
        "print(anova_result)\n",
        "print()\n",
        "\n",
        "# Print t-test result in APA style\n",
        "ttest_result = f\"Independent samples t-test: t({len(data_definition)+len(data_quiz)-2}) = {t_value:.2f}, p = {p_value_ttest:.3f}\"\n",
        "print(\"t-test result (APA style):\")\n",
        "print(ttest_result)"
      ],
      "metadata": {
        "colab": {
          "base_uri": "https://localhost:8080/"
        },
        "id": "MBfLnxtcjZBu",
        "outputId": "f6a1a847-82a6-4495-f9d6-9733bb2e7533"
      },
      "execution_count": null,
      "outputs": [
        {
          "output_type": "stream",
          "name": "stdout",
          "text": [
            "ANOVA result: not statistically significant (p-value > 0.05)\n",
            "t-test result: not statistically significant (p-value > 0.05)\n",
            "ANOVA result (APA style):\n",
            "One-way ANOVA: F(11, 11) = 0.24, p = 0.628\n",
            "\n",
            "t-test result (APA style):\n",
            "Independent samples t-test: t(22) = 0.49, p = 0.628\n"
          ]
        }
      ]
    },
    {
      "cell_type": "markdown",
      "source": [
        "# ANOVA and t test for HbO and HbR"
      ],
      "metadata": {
        "id": "_1t2KLsZCgoK"
      }
    },
    {
      "cell_type": "code",
      "source": [
        "import scipy.stats as stats\n",
        "\n",
        "#column_definition = 'DelHbO' %df_video['DelHbO']\n",
        "#column_quiz = 'DelHbO'\n",
        "\n",
        "# Extract the data from the DataFrames\n",
        "#HBO\n",
        "#data_definition=[0.0934527985, 0.0772465395, 0.127890963, -0.069620193, 0.216528388, 0.8431715055]\n",
        "#data_quiz=[-0.05743767, 0.106516635, -0.124108476, 0.0625938165, -0.1724355275, -3.07158847]\n",
        "\n",
        "#HbR\n",
        "data_definition=[-0.02293154413, 0.04039397617, -0.06934157897, 0.03808910251, 0.6985986514, 0.3035975953]\n",
        "data_quiz=[0.004501968833, 0.02094886238, 0.06419272046, -0.03698864132, -0.03962696897, 1.555689703]\n",
        "# One-way ANOVA\n",
        "f_value, p_value_anova = stats.f_oneway(data_definition, data_quiz)\n",
        "if p_value_anova <= 0.05:\n",
        "    print(\"ANOVA result: statistically significant (p-value ≤ 0.05)\")\n",
        "else:\n",
        "    print(\"ANOVA result: not statistically significant (p-value > 0.05)\")\n",
        "\n",
        "# Independent samples t-test\n",
        "t_value, p_value_ttest = stats.ttest_ind(pd.to_numeric(data_definition),pd.to_numeric(data_quiz))\n",
        "if p_value_ttest <= 0.05:\n",
        "    print(\"t-test result: statistically significant (p-value ≤ 0.05)\")\n",
        "else:\n",
        "    print(\"t-test result: not statistically significant (p-value > 0.05)\")\n",
        "\n",
        "\n",
        "# Print ANOVA result in APA style\n",
        "anova_result = f\"One-way ANOVA: F({len(data_definition)-1}, {len(data_quiz)-1}) = {f_value:.2f}, p = {p_value_anova:.3f}\"\n",
        "print(\"ANOVA result (APA style):\")\n",
        "print(anova_result)\n",
        "print()\n",
        "\n",
        "# Print t-test result in APA style\n",
        "ttest_result = f\"Independent samples t-test: t({len(data_definition)+len(data_quiz)-2}) = {t_value:.2f}, p = {p_value_ttest:.3f}\"\n",
        "print(\"t-test result (APA style):\")\n",
        "print(ttest_result)"
      ],
      "metadata": {
        "colab": {
          "base_uri": "https://localhost:8080/"
        },
        "id": "PrNesaQRkOVi",
        "outputId": "3178b1e7-c3a6-4714-e603-4a4c47d5f608"
      },
      "execution_count": null,
      "outputs": [
        {
          "output_type": "stream",
          "name": "stdout",
          "text": [
            "ANOVA result: not statistically significant (p-value > 0.05)\n",
            "t-test result: not statistically significant (p-value > 0.05)\n",
            "ANOVA result (APA style):\n",
            "One-way ANOVA: F(5, 5) = 0.11, p = 0.742\n",
            "\n",
            "t-test result (APA style):\n",
            "Independent samples t-test: t(10) = -0.34, p = 0.742\n"
          ]
        }
      ]
    },
    {
      "cell_type": "markdown",
      "source": [
        "# BOX PLOT"
      ],
      "metadata": {
        "id": "6YOhBS4jCZUw"
      }
    },
    {
      "cell_type": "code",
      "source": [
        "import matplotlib.pyplot as plt\n",
        "import matplotlib.patches as mpatches\n",
        "data_game_hbo=[0.0934527985, 0.0772465395, 0.127890963, -0.069620193, 0.216528388, 0.8431715055]\n",
        "data_video_hbo=[-0.05743767, 0.106516635, -0.124108476, 0.0625938165, -0.1724355275, -3.07158847]\n",
        "\n",
        "data_game_hbr=[-0.02293154413, 0.04039397617, -0.06934157897, 0.03808910251, 0.6985986514, 0.3035975953]\n",
        "data_video_hbw=[0.004501968833, 0.02094886238, 0.06419272046, -0.03698864132, -0.03962696897, 1.555689703]\n",
        "\n",
        "# Create a list of data to plot\n",
        "data_to_plot = [data_game_hbo, data_video_hbo, data_game_hbr, data_video_hbw]\n",
        "\n",
        "# Create the figure and axes\n",
        "fig, ax = plt.subplots()\n",
        "\n",
        "# Set the colors for the box plots\n",
        "box_colors = ['lightcyan', 'lightgray', 'lightcyan', 'lightgray']\n",
        "\n",
        "# Create the boxplot with custom colors\n",
        "bp = ax.boxplot(data_to_plot, showfliers=False, patch_artist=True)\n",
        "\n",
        "# Set facecolor for each box plot\n",
        "for patch, color in zip(bp['boxes'], box_colors):\n",
        "    patch.set_facecolor(color)\n",
        "# Show mean value with a circle\n",
        "#for i, data in enumerate(data_to_plot):\n",
        " #   mean_value = np.mean(data)\n",
        "  #  print(mean_value)\n",
        "   # ax.plot(i+1 , mean_value, 'ro', markersize=4)\n",
        "print(np.mean(data_to_plot))\n",
        "# Make median line black\n",
        "for median in bp['medians']:\n",
        "    median.set(color='black')\n",
        "\n",
        "\n",
        "# Set labels for the x-axis\n",
        "#ax.set_xticklabels(['Game \\u0394HbO', 'Video \\u0394HbO', 'Game \\u0394HbR', 'Video \\u0394HBW'])\n",
        "\n",
        "ax.set_xticklabels(['\\u0394HbO', '\\u0394HbO','\\u0394HbR','\\u0394HbR'])\n",
        "ax.yaxis.grid(True)\n",
        "# Set a title for the plot\n",
        "plt.title('Box Plot of \\u0394HbO and \\u0394HbR Data')\n",
        "# Display the color labels\n",
        "# Display the color labels as boxes\n",
        "game_patch = mpatches.Patch(color='lightcyan', label='Game')\n",
        "video_patch = mpatches.Patch(color='lightgray', label='Video')\n",
        "plt.legend(handles=[game_patch, video_patch], loc='lower right')\n",
        "# Display the plot\n",
        "plt.savefig('hbo_box.jpg', dpi=900)\n",
        "plt.savefig('hbo_box.pdf', dpi=1300)"
      ],
      "metadata": {
        "colab": {
          "base_uri": "https://localhost:8080/",
          "height": 470
        },
        "id": "09EO_zj6vhDO",
        "outputId": "8a77f2b9-77a4-4174-e810-7a38e439161a"
      },
      "execution_count": null,
      "outputs": [
        {
          "output_type": "stream",
          "name": "stdout",
          "text": [
            "0.024555589840125014\n"
          ]
        },
        {
          "output_type": "display_data",
          "data": {
            "text/plain": [
              "<Figure size 640x480 with 1 Axes>"
            ],
            "image/png": "[encoded data removed]"
          },
          "metadata": {}
        }
      ]
    },
    {
      "cell_type": "code",
      "source": [
        "import numpy as np\n",
        "\n",
        "data_game_hbo = [0.0934527985, 0.0772465395, 0.127890963, -0.069620193, 0.216528388, 0.8431715055]\n",
        "data_video_hbo = [-0.05743767, 0.106516635, -0.124108476, 0.0625938165, -0.1724355275, -3.07158847]\n",
        "\n",
        "# Calculate the standard deviation using numpy\n",
        "sd_game_hbo = np.std(data_game_hbo, ddof=1)\n",
        "sd_video_hbo = np.std(data_video_hbo, ddof=1)\n",
        "\n",
        "print(\"Standard Deviation (Game):\", sd_game_hbo)\n",
        "print(\"Standard Deviation (Video):\", sd_video_hbo)\n"
      ],
      "metadata": {
        "colab": {
          "base_uri": "https://localhost:8080/"
        },
        "id": "kha8RCj4VVHg",
        "outputId": "a6ddd0fa-6fb2-4631-9bda-4163203b725c"
      },
      "execution_count": null,
      "outputs": [
        {
          "output_type": "stream",
          "name": "stdout",
          "text": [
            "Standard Deviation (Game): 0.3215424880598658\n",
            "Standard Deviation (Video): 1.2434575906230325\n"
          ]
        }
      ]
    },
    {
      "cell_type": "code",
      "source": [],
      "metadata": {
        "id": "LVHQflnJ-1ap"
      },
      "execution_count": null,
      "outputs": []
    }
  ]
}