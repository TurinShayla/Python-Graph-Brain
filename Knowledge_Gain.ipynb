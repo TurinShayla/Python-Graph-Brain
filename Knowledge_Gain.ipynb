{
  "nbformat": 4,
  "nbformat_minor": 0,
  "metadata": {
    "colab": {
      "provenance": [],
      "authorship_tag": "ABX9TyO5Bh+kLqJ2IRsXlQXuA1+c",
      "include_colab_link": true
    },
    "kernelspec": {
      "name": "python3",
      "display_name": "Python 3"
    },
    "language_info": {
      "name": "python"
    }
  },
  "cells": [
    {
      "cell_type": "markdown",
      "metadata": {
        "id": "view-in-github",
        "colab_type": "text"
      },
      "source": [
        "<a href=\"https://colab.research.google.com/github/TurinShayla/Python-Graph-Brain/blob/main/Knowledge_Gain.ipynb\" target=\"_parent\"><img src=\"https://colab.research.google.com/assets/colab-badge.svg\" alt=\"Open In Colab\"/></a>"
      ]
    },
    {
      "cell_type": "markdown",
      "source": [
        "Connect to google drive"
      ],
      "metadata": {
        "id": "6vuUgChnOkTc"
      }
    },
    {
      "cell_type": "code",
      "execution_count": null,
      "metadata": {
        "id": "mhsDwkseFSKQ"
      },
      "outputs": [],
      "source": [
        "from google.colab import auth\n",
        "auth.authenticate_user()\n",
        "\n",
        "import gspread\n",
        "from google.auth import default\n",
        "creds, _ = default()\n",
        "\n",
        "gc = gspread.authorize(creds)"
      ]
    },
    {
      "cell_type": "code",
      "source": [
        "import numpy as np\n",
        "import matplotlib.pyplot as plt\n",
        "import matplotlib.patches as patches\n",
        "from scipy.stats import sem"
      ],
      "metadata": {
        "id": "2o99yZ4BHkfp"
      },
      "execution_count": null,
      "outputs": []
    },
    {
      "cell_type": "markdown",
      "source": [
        "Add the google file link"
      ],
      "metadata": {
        "id": "k-D_AMujOr1K"
      }
    },
    {
      "cell_type": "code",
      "source": [
        "#get the url\n",
        "wb = gc.open_by_key('1SWN0twJvQHvM7_e5LFVMcTVoZ75EZl_YYkyXBeoGS8c')\n",
        "#get the file\n",
        "ws = wb.worksheet('Knowledge Gain')\n",
        "\n",
        "# get_all_values gives a list of rows.\n",
        "rows = ws.get_all_values()\n",
        "print(rows)"
      ],
      "metadata": {
        "colab": {
          "base_uri": "https://localhost:8080/"
        },
        "id": "VCYGvsBVFfyZ",
        "outputId": "87a3f64a-5b9e-40d0-d30c-40d9584f6231"
      },
      "execution_count": null,
      "outputs": [
        {
          "output_type": "stream",
          "name": "stdout",
          "text": [
            "[['ID', 'Condition', 'Post test', 'Pretest', 'knowledge_gain'], ['SU6052', 'Game', '6', '3', '3'], ['DH5341', 'Game', '7', '6', '1'], ['MA9343', 'Game', '7', '4', '3'], ['DH3764', 'Game', '7', '3', '4'], ['NAF5164', 'Game', '7', '2', '5'], ['DH6528', 'Game', '8', '3', '5'], ['RW9053', 'Video', '6', '3', '3'], ['sy8932', 'Video', '7', '6', '1'], ['DH6641', 'Video', '5', '4', '1'], ['DH9191', 'Video', '7', '4', '3'], ['NA1730', 'Video', '7', '4', '3'], ['MY8520', 'Video', '1', '1', '0'], ['', '', '', '', ''], ['https://statisticsbyjim.com/graphs/box-plot/', '', '', '', '']]\n"
          ]
        }
      ]
    },
    {
      "cell_type": "markdown",
      "source": [
        "Creae the dataframe"
      ],
      "metadata": {
        "id": "Gw8Xum5kOu66"
      }
    },
    {
      "cell_type": "code",
      "source": [
        "import pandas as pd\n",
        "#df=pd.DataFrame.from_records(rows)\n",
        "df=pd.DataFrame.from_records(rows[1:],columns=rows[0])\n",
        "#print(df)"
      ],
      "metadata": {
        "id": "gQiOW8gVF8Vq"
      },
      "execution_count": null,
      "outputs": []
    },
    {
      "cell_type": "markdown",
      "source": [
        "Divide based on Game and Video"
      ],
      "metadata": {
        "id": "v2DJMSeJOw-b"
      }
    },
    {
      "cell_type": "code",
      "source": [
        "grouped=df.groupby(df.Condition)\n",
        "df_video=grouped.get_group(\"Video\")\n",
        "df_game=grouped.get_group(\"Game\")\n",
        "#print(df_game)"
      ],
      "metadata": {
        "id": "vyUeEe7uHCOi"
      },
      "execution_count": null,
      "outputs": []
    },
    {
      "cell_type": "markdown",
      "source": [
        "Change dataframe to numeric: Pre and post test"
      ],
      "metadata": {
        "id": "twn0CA9jO0P6"
      }
    },
    {
      "cell_type": "code",
      "source": [
        "df_video['Pretest']=pd.to_numeric(df_video['Pretest'],errors='coerce')\n",
        "df_video['Post test']=pd.to_numeric(df_video['Post test'],errors='coerce')\n",
        "\n",
        "df_game['Pretest']=pd.to_numeric(df_game['Pretest'],errors='coerce')\n",
        "df_game['Post test']=pd.to_numeric(df_game['Post test'],errors='coerce')"
      ],
      "metadata": {
        "colab": {
          "base_uri": "https://localhost:8080/"
        },
        "id": "Rlf0pXa3HHva",
        "outputId": "c346cea6-6ef1-4bb1-a3bf-98947d3ba78a"
      },
      "execution_count": null,
      "outputs": [
        {
          "output_type": "stream",
          "name": "stderr",
          "text": [
            "<ipython-input-6-5e97e7602f86>:1: SettingWithCopyWarning: \n",
            "A value is trying to be set on a copy of a slice from a DataFrame.\n",
            "Try using .loc[row_indexer,col_indexer] = value instead\n",
            "\n",
            "See the caveats in the documentation: https://pandas.pydata.org/pandas-docs/stable/user_guide/indexing.html#returning-a-view-versus-a-copy\n",
            "  df_video['Pretest']=pd.to_numeric(df_video['Pretest'],errors='coerce')\n",
            "<ipython-input-6-5e97e7602f86>:2: SettingWithCopyWarning: \n",
            "A value is trying to be set on a copy of a slice from a DataFrame.\n",
            "Try using .loc[row_indexer,col_indexer] = value instead\n",
            "\n",
            "See the caveats in the documentation: https://pandas.pydata.org/pandas-docs/stable/user_guide/indexing.html#returning-a-view-versus-a-copy\n",
            "  df_video['Post test']=pd.to_numeric(df_video['Post test'],errors='coerce')\n",
            "<ipython-input-6-5e97e7602f86>:4: SettingWithCopyWarning: \n",
            "A value is trying to be set on a copy of a slice from a DataFrame.\n",
            "Try using .loc[row_indexer,col_indexer] = value instead\n",
            "\n",
            "See the caveats in the documentation: https://pandas.pydata.org/pandas-docs/stable/user_guide/indexing.html#returning-a-view-versus-a-copy\n",
            "  df_game['Pretest']=pd.to_numeric(df_game['Pretest'],errors='coerce')\n",
            "<ipython-input-6-5e97e7602f86>:5: SettingWithCopyWarning: \n",
            "A value is trying to be set on a copy of a slice from a DataFrame.\n",
            "Try using .loc[row_indexer,col_indexer] = value instead\n",
            "\n",
            "See the caveats in the documentation: https://pandas.pydata.org/pandas-docs/stable/user_guide/indexing.html#returning-a-view-versus-a-copy\n",
            "  df_game['Post test']=pd.to_numeric(df_game['Post test'],errors='coerce')\n"
          ]
        }
      ]
    },
    {
      "cell_type": "markdown",
      "source": [
        "Calculate the knowledge gain"
      ],
      "metadata": {
        "id": "o1H5dwewO5bz"
      }
    },
    {
      "cell_type": "code",
      "source": [
        "df_video['Knowledge_gain']=df_video['Post test']-df_video['Pretest']\n",
        "df_game['Knowledge_gain']=df_game['Post test']-df_game['Pretest']"
      ],
      "metadata": {
        "colab": {
          "base_uri": "https://localhost:8080/"
        },
        "id": "MNWMZB-gLYui",
        "outputId": "5c765cca-3e17-407e-83d6-d0408ace9669"
      },
      "execution_count": null,
      "outputs": [
        {
          "output_type": "stream",
          "name": "stderr",
          "text": [
            "<ipython-input-7-735ca74ef7fa>:1: SettingWithCopyWarning: \n",
            "A value is trying to be set on a copy of a slice from a DataFrame.\n",
            "Try using .loc[row_indexer,col_indexer] = value instead\n",
            "\n",
            "See the caveats in the documentation: https://pandas.pydata.org/pandas-docs/stable/user_guide/indexing.html#returning-a-view-versus-a-copy\n",
            "  df_video['Knowledge_gain']=df_video['Post test']-df_video['Pretest']\n",
            "<ipython-input-7-735ca74ef7fa>:2: SettingWithCopyWarning: \n",
            "A value is trying to be set on a copy of a slice from a DataFrame.\n",
            "Try using .loc[row_indexer,col_indexer] = value instead\n",
            "\n",
            "See the caveats in the documentation: https://pandas.pydata.org/pandas-docs/stable/user_guide/indexing.html#returning-a-view-versus-a-copy\n",
            "  df_game['Knowledge_gain']=df_game['Post test']-df_game['Pretest']\n"
          ]
        }
      ]
    },
    {
      "cell_type": "code",
      "source": [
        "print(df_video,df_game)"
      ],
      "metadata": {
        "colab": {
          "base_uri": "https://localhost:8080/"
        },
        "id": "ER12BcOFNLoi",
        "outputId": "96f8c6cc-1641-4569-e614-07874a5fe04a"
      },
      "execution_count": null,
      "outputs": [
        {
          "output_type": "stream",
          "name": "stdout",
          "text": [
            "        ID Condition  Post test  Pretest knowledge_gain  Knowledge_gain\n",
            "6   RW9053     Video          6        3              3               3\n",
            "7   sy8932     Video          7        6              1               1\n",
            "8   DH6641     Video          5        4              1               1\n",
            "9   DH9191     Video          7        4              3               3\n",
            "10  NA1730     Video          7        4              3               3\n",
            "11  MY8520     Video          1        1              0               0         ID Condition  Post test  Pretest knowledge_gain  Knowledge_gain\n",
            "0   SU6052      Game          6        3              3               3\n",
            "1   DH5341      Game          7        6              1               1\n",
            "2   MA9343      Game          7        4              3               3\n",
            "3   DH3764      Game          7        3              4               4\n",
            "4  NAF5164      Game          7        2              5               5\n",
            "5   DH6528      Game          8        3              5               5\n"
          ]
        }
      ]
    },
    {
      "cell_type": "markdown",
      "source": [
        "Calculte mean and std of Knowledge gain, pre test, post test"
      ],
      "metadata": {
        "id": "_VdFR9lTQI4r"
      }
    },
    {
      "cell_type": "code",
      "source": [
        "#df_video['Knowledge_gain']=pd.to_numeric(df_video['Knowledge_gain'],errors='coerce')\n",
        "video_mean_Kg=df_video[\"Knowledge_gain\"].mean()\n",
        "video_std_Kg=df_video['Knowledge_gain'].std()\n",
        "video_se_Kg=sem(df_video['Knowledge_gain'])\n",
        "\n",
        "video_mean_Pre=df_video[\"Pretest\"].mean()\n",
        "video_std_Pre=df_video['Pretest'].std()\n",
        "video_se_Pre=sem(df_video['Pretest'])\n",
        "\n",
        "video_mean_Post=df_video[\"Post test\"].mean()\n",
        "video_std_Post=df_video['Post test'].std()\n",
        "video_se_Post=sem(df_video['Post test'])\n",
        "\n",
        "#df_game['Knowledge_gain']=pd.to_numeric(df_game['Knowledge_gain'],errors='coerce')\n",
        "game_mean_Kg=df_game['Knowledge_gain'].mean()\n",
        "game_std_Kg=df_game['Knowledge_gain'].std()\n",
        "game_se_Kg= sem(df_video['Knowledge_gain'])\n",
        "\n",
        "game_mean_Pre=df_game[\"Pretest\"].mean()\n",
        "game_std_Pre=df_game[\"Pretest\"].std()\n",
        "game_se_Pre= sem(df_game['Pretest'])\n",
        "\n",
        "game_mean_Post=df_game[\"Post test\"].mean()\n",
        "game_std_Post=df_game[\"Post test\"].std()\n",
        "game_se_Post= sem(df_game['Post test'])\n",
        "print(\"Video knowledge gain\", video_mean_Kg, video_std_Kg,\"\\n\",\"Game knowledge gain\", game_mean_Kg,game_std_Kg)"
      ],
      "metadata": {
        "colab": {
          "base_uri": "https://localhost:8080/"
        },
        "id": "_BdKUItlHGmi",
        "outputId": "e88b2062-b446-42e3-f124-712d81ad75ae"
      },
      "execution_count": null,
      "outputs": [
        {
          "output_type": "stream",
          "name": "stdout",
          "text": [
            "Video knowledge gain 1.8333333333333333 1.3291601358251257 \n",
            " Game knowledge gain 3.5 1.51657508881031\n"
          ]
        }
      ]
    },
    {
      "cell_type": "markdown",
      "source": [
        "Description data"
      ],
      "metadata": {
        "id": "Yk6DRmn2QnQj"
      }
    },
    {
      "cell_type": "code",
      "source": [
        "df2=df_video.describe()\n",
        "print(df2)\n",
        "df3=df_game.describe()\n",
        "print(df3)"
      ],
      "metadata": {
        "colab": {
          "base_uri": "https://localhost:8080/"
        },
        "id": "oGyneBapQV7q",
        "outputId": "9c8c76c0-b60f-4a2e-c87b-449f7e780469"
      },
      "execution_count": null,
      "outputs": [
        {
          "output_type": "stream",
          "name": "stdout",
          "text": [
            "       Post test   Pretest  Knowledge_gain\n",
            "count   6.000000  6.000000        6.000000\n",
            "mean    5.500000  3.666667        1.833333\n",
            "std     2.345208  1.632993        1.329160\n",
            "min     1.000000  1.000000        0.000000\n",
            "25%     5.250000  3.250000        1.000000\n",
            "50%     6.500000  4.000000        2.000000\n",
            "75%     7.000000  4.000000        3.000000\n",
            "max     7.000000  6.000000        3.000000\n",
            "       Post test   Pretest  Knowledge_gain\n",
            "count   6.000000  6.000000        6.000000\n",
            "mean    7.000000  3.500000        3.500000\n",
            "std     0.632456  1.378405        1.516575\n",
            "min     6.000000  2.000000        1.000000\n",
            "25%     7.000000  3.000000        3.000000\n",
            "50%     7.000000  3.000000        3.500000\n",
            "75%     7.000000  3.750000        4.750000\n",
            "max     8.000000  6.000000        5.000000\n"
          ]
        }
      ]
    },
    {
      "cell_type": "markdown",
      "source": [
        "Plotting"
      ],
      "metadata": {
        "id": "BMfEoAB8Qrvj"
      }
    },
    {
      "cell_type": "code",
      "source": [],
      "metadata": {
        "id": "WZqFuADAQuHL"
      },
      "execution_count": null,
      "outputs": []
    },
    {
      "cell_type": "markdown",
      "source": [
        "Grouped Bar Chart"
      ],
      "metadata": {
        "id": "2VBAaqCUdQ7j"
      }
    },
    {
      "cell_type": "code",
      "source": [],
      "metadata": {
        "id": "KfKAf3KyEd5H"
      },
      "execution_count": null,
      "outputs": []
    },
    {
      "cell_type": "code",
      "source": [
        "def autolabel(rects, xpos='center'):\n",
        "    \"\"\"\n",
        "    Attach a text label above each bar in *rects*, displaying its height.\n",
        "\n",
        "    *xpos* indicates which side to place the text w.r.t. the center of\n",
        "    the bar. It can be one of the following {'center', 'right', 'left'}.\n",
        "    \"\"\"\n",
        "\n",
        "    ha = {'center': 'center', 'right': 'left', 'left': 'right'}\n",
        "    offset = {'center': 0, 'right': 1, 'left': -1}\n",
        "\n",
        "    for rect in rects:\n",
        "        height = rect.get_height()\n",
        "        ax.annotate('{}'.format(height),\n",
        "                    xy=(rect.get_x() + rect.get_width() / 2, height),\n",
        "                    xytext=(offset[xpos]*3, 3),  # use 3 points offset\n",
        "                    textcoords=\"offset points\",  # in both directions\n",
        "                    ha=ha[xpos], va='bottom')\n",
        "\n"
      ],
      "metadata": {
        "id": "dYG6I2mfcRfz"
      },
      "execution_count": null,
      "outputs": []
    },
    {
      "cell_type": "markdown",
      "source": [
        "Grouped mean and STD"
      ],
      "metadata": {
        "id": "tZoWSr0QHWjr"
      }
    },
    {
      "cell_type": "code",
      "source": [
        "pre_mean,pre_std=(round(game_mean_Pre,2),round(video_mean_Pre,2)),(game_std_Pre, video_std_Pre)\n",
        "post_mean,post_std=(round(game_mean_Post,2),round(video_mean_Post,2)),(game_std_Post,video_std_Post)\n",
        "\n",
        "ind = np.arange(len(pre_mean))  # the x locations for the groups\n",
        "width = 0.35  # the width of the bars\n",
        "fig, ax = plt.subplots(figsize=(5, 5))\n",
        "#fig, ax = plt.subplots()\n",
        "rects1 = ax.bar(ind - width/2, pre_mean, width, yerr=pre_std, align='center',\n",
        "                label='Pre-test',        capsize=10,edgecolor='black',zorder=2,\n",
        "       color=['lightcyan'])\n",
        "rects2 = ax.bar(ind + width/2, post_mean, width, yerr=post_std, align='center',edgecolor='black',\n",
        "                label='Post-test',        capsize=10,zorder=2,\n",
        "       color=['lightgray'])\n",
        "\n",
        "# Add some text for labels, title and custom x-axis tick labels, etc.\n",
        "ax.set_ylabel('Scores')\n",
        "ax.set_title('Difference between Pre and Post test')\n",
        "ax.set_xticks(ind)\n",
        "ax.set_xticklabels(('Game', 'Video'))\n",
        "ax.legend()\n",
        "ax.yaxis.grid(False)\n",
        "autolabel(rects1, \"left\")\n",
        "autolabel(rects2, \"right\")\n",
        "ax.yaxis.grid(True)\n",
        "fig.tight_layout()\n",
        "\n",
        "#plt.show()\n",
        "plt.savefig('pre_post_diffSD.jpg',dpi=900)\n",
        "plt.savefig('pre_post_diffSD.pdf',dpi=1300)"
      ],
      "metadata": {
        "colab": {
          "base_uri": "https://localhost:8080/",
          "height": 507
        },
        "id": "aPKrMzmjXlik",
        "outputId": "ee0d9a62-a2d6-4c8a-9556-d25a5b40db21"
      },
      "execution_count": null,
      "outputs": [
        {
          "output_type": "display_data",
          "data": {
            "text/plain": [
              "<Figure size 500x500 with 1 Axes>"
            ],
            "image/png": "[encoded data removed]"
          },
          "metadata": {}
        }
      ]
    },
    {
      "cell_type": "code",
      "source": [
        "pre_mean,pre_std=(round(game_mean_Pre,2),round(video_mean_Pre,2)),(game_se_Pre, video_se_Pre)\n",
        "post_mean,post_std=(round(game_mean_Post,2),round(video_mean_Post,2)),(game_se_Post,video_se_Post)\n",
        "\n",
        "ind = np.arange(len(pre_mean))  # the x locations for the groups\n",
        "width = 0.35  # the width of the bars\n",
        "fig, ax = plt.subplots(figsize=(5, 5))\n",
        "#fig, ax = plt.subplots()\n",
        "rects1 = ax.bar(ind - width/2, pre_mean, width, yerr=pre_std, align='center',\n",
        "                label='Pre-test',        capsize=10,edgecolor='black',zorder=2,\n",
        "       color=['lightcyan'])\n",
        "rects2 = ax.bar(ind + width/2, post_mean, width, yerr=post_std, align='center',edgecolor='black',\n",
        "                label='Post-test',        capsize=10,zorder=2,\n",
        "       color=['lightgray'])\n",
        "\n",
        "# Add some text for labels, title and custom x-axis tick labels, etc.\n",
        "ax.set_ylabel('Scores')\n",
        "ax.set_title('Difference between Pre and Post test')\n",
        "ax.set_xticks(ind)\n",
        "ax.set_xticklabels(('Game', 'Video'))\n",
        "ax.legend()\n",
        "ax.yaxis.grid(False)\n",
        "autolabel(rects1, \"left\")\n",
        "autolabel(rects2, \"right\")\n",
        "ax.yaxis.grid(True)\n",
        "fig.tight_layout()\n",
        "\n",
        "#plt.show()\n",
        "plt.savefig('pre_post_diff.jpg',dpi=900)\n",
        "plt.savefig('pre_post_diff.pdf',dpi=1300)"
      ],
      "metadata": {
        "colab": {
          "base_uri": "https://localhost:8080/",
          "height": 507
        },
        "id": "Ew9ECnZvISQf",
        "outputId": "0f10b1e3-bce5-4ea6-e25b-c5682566465c"
      },
      "execution_count": null,
      "outputs": [
        {
          "output_type": "display_data",
          "data": {
            "text/plain": [
              "<Figure size 500x500 with 1 Axes>"
            ],
            "image/png": "[encoded data removed]"
          },
          "metadata": {}
        }
      ]
    },
    {
      "cell_type": "markdown",
      "source": [
        "Grouped Percentage Difference"
      ],
      "metadata": {
        "id": "RX3jdFkxHgV7"
      }
    },
    {
      "cell_type": "code",
      "source": [
        "# Assuming you have a DataFrame named 'data' with four columns: 'Group', 'Pre-test', and 'Post-test'\n",
        "data = pd.DataFrame({'Group': ['Game', 'Game', 'Video', 'Video'],\n",
        "                     'Test': ['Pre', 'Post', 'Pre', 'Post'],\n",
        "                     'Score': [game_mean_Pre, game_mean_Post, video_mean_Pre, video_mean_Post]})\n",
        "\n",
        "# Pivot the data to get separate columns for pre-test and post-test scores\n",
        "pivot_data = data.pivot(index='Group', columns='Test', values='Score')\n",
        "\n",
        "# Calculate the percentage difference\n",
        "pivot_data['Percentage Difference'] = ((pivot_data['Post'] - pivot_data['Pre']) / pivot_data[['Post', 'Pre']].max(axis=1)) * 100\n",
        "\n",
        "# Plot the grouped bar chart\n",
        "fig, ax = plt.subplots(figsize=(5, 5))\n",
        "#fig, ax = plt.subplots()\n",
        "bar_width = 0.35\n",
        "index = np.arange(len(pivot_data))\n",
        "colors = ['g' if diff >= 0 else 'r' for diff in pivot_data['Percentage Difference']]\n",
        "pre_bar = ax.bar(index, pivot_data['Pre'], bar_width, color='lightseagreen', alpha=0.5, label='Pre-test',edgecolor='black',zorder=2,)\n",
        "post_bar = ax.bar(index + bar_width, pivot_data['Post'], bar_width, color='grey', alpha=0.5, label='Post-test',edgecolor='black',zorder=2,)\n",
        "\n",
        "# Add arrows with pointy arrowheads for comparison\n",
        "for i, diff in enumerate(pivot_data['Percentage Difference']):\n",
        "    if diff >= 0:\n",
        "        x_start = index[i] + bar_width / 2\n",
        "        y_start = min(pivot_data['Pre'][i], pivot_data['Post'][i])\n",
        "        x_end = index[i] + bar_width / 2\n",
        "        y_end = min(pivot_data['Pre'][i], pivot_data['Post'][i]) + abs(pivot_data['Post'][i] - pivot_data['Pre'][i])\n",
        "        dx = x_end - x_start\n",
        "        dy = y_end - y_start\n",
        "  #      arrow = patches.FancyArrow(x_start, y_start, dx, dy, width=0.02, head_width=0.15, head_length=0.2, length_includes_head=True,\n",
        "     #                              color='black', arrowstyle='->')\n",
        "        arrow = patches.FancyArrow(x_start-0.2, y_start, dx, dy, width=0.01, head_width=0.1, head_length=0.1, length_includes_head=True,\n",
        "                                   color='black')\n",
        "        ax.add_patch(arrow)\n",
        "        ax.text(x_start + dx/2, y_start + dy/2, f'{abs(diff):.2f}%', ha='center', va='center')\n",
        "    else:\n",
        "        x_start = index[i] + bar_width / 2\n",
        "        y_start = max(pivot_data['Pre'][i], pivot_data['Post'][i])\n",
        "        x_end = index[i] + bar_width / 2\n",
        "        y_end = max(pivot_data['Pre'][i], pivot_data['Post'][i]) - abs(pivot_data['Post'][i] - pivot_data['Pre'][i])\n",
        "        dx = x_end - x_start\n",
        "        dy = y_end - y_start\n",
        "        arrow = patches.FancyArrow(x_start, y_start, dx, dy, width=0.02, head_width=0.15, head_length=0.2, length_includes_head=True,\n",
        "                                   color='black')\n",
        "        ax.add_patch(arrow)\n",
        "        ax.text(x_start + dx/2, y_start + dy/2, f'{abs(diff):.2f}%', ha='center', va='center')\n",
        "\n",
        "# Set labels and title\n",
        "ax.set_xlabel('Group')\n",
        "ax.set_ylabel('Score')\n",
        "ax.set_title('Comparison of Pre-test and Post-test Scores')\n",
        "ax.set_xticks(index + bar_width / 2)\n",
        "ax.set_xticklabels(pivot_data.index)\n",
        "ax.legend()\n",
        "\n",
        "#plt.show()\n",
        "plt.savefig('pre_post__percentage_diff.jpg',dpi=900)\n",
        "plt.savefig('pre_post__percentage_diff.pdf',dpi=1300)"
      ],
      "metadata": {
        "colab": {
          "base_uri": "https://localhost:8080/",
          "height": 487
        },
        "id": "0Zd7lc3HEsRg",
        "outputId": "f7e4a1d7-907d-4ff2-c52a-130e79a8b685"
      },
      "execution_count": null,
      "outputs": [
        {
          "output_type": "display_data",
          "data": {
            "text/plain": [
              "<Figure size 500x500 with 1 Axes>"
            ],
            "image/png": "[encoded data removed]"
          },
          "metadata": {}
        }
      ]
    },
    {
      "cell_type": "markdown",
      "source": [
        "Game Knowledge gain vs Video Knowledge Gain"
      ],
      "metadata": {
        "id": "rYvFWVY6Hl06"
      }
    },
    {
      "cell_type": "code",
      "source": [],
      "metadata": {
        "id": "s_rHoFDwuJmb"
      },
      "execution_count": null,
      "outputs": []
    },
    {
      "cell_type": "code",
      "source": [
        "print(pre_mean,pre_std,post_mean,post_std)"
      ],
      "metadata": {
        "colab": {
          "base_uri": "https://localhost:8080/"
        },
        "id": "M-lBFy6auM6N",
        "outputId": "ff93de09-f39d-4715-8f55-a6328833204e"
      },
      "execution_count": null,
      "outputs": [
        {
          "output_type": "stream",
          "name": "stdout",
          "text": [
            "(3.5, 3.67) (0.5627314338711378, 0.6666666666666667) (7.0, 5.5) (0.25819888974716115, 0.9574271077563382)\n"
          ]
        }
      ]
    },
    {
      "cell_type": "code",
      "source": [
        "pre_mean,pre_std=(round(game_mean_Kg,2)),(game_std_Kg)\n",
        "post_mean,post_std=(round(video_mean_Kg,2)),(video_std_Kg)\n",
        "\n",
        "ind = 0.5  # the x locations for the groups\n",
        "width = 0.35  # the width of the bars\n",
        "fig, ax = plt.subplots(figsize=(5, 5))\n",
        "#fig, ax = plt.subplots()\n",
        "rects1 = ax.bar(ind - width/2, pre_mean, width, yerr=pre_std,\n",
        "                label='Game',        capsize=10,\n",
        "       color=['lightcyan'],edgecolor='black',zorder=2,)\n",
        "rects2 = ax.bar(ind + width, post_mean, width, yerr=post_std,\n",
        "                label='Video',        capsize=10,\n",
        "       color=['lightgray'],edgecolor='black',zorder=2,)\n",
        "\n",
        "\n",
        "ax.set_ylabel('Knowledge Gain')\n",
        "#set the label position\n",
        "ax.set_xticks([0.3,0.85])\n",
        "ax.set_xticklabels(['Game','Video'])\n",
        "\n",
        "ax.set_title('Knowledge Gain Difference Game and Video')\n",
        "ax.yaxis.grid(True)\n",
        "ax.legend()\n",
        "\n",
        "autolabel(rects1, \"left\")\n",
        "autolabel(rects2, \"right\")\n",
        "\n",
        "# Save the figure and show\n",
        "plt.tight_layout()\n",
        "\n",
        "#adjust position of x-axis label\n",
        "\n",
        "plt.savefig('Knowledge_gainSD.jpg',dpi=900)\n",
        "plt.savefig('Knowledge_gainSD.pdf',dpi=1300)"
      ],
      "metadata": {
        "colab": {
          "base_uri": "https://localhost:8080/",
          "height": 507
        },
        "id": "JRbjKoErdVi0",
        "outputId": "5b73b3ba-519d-4e14-df43-c10f222adf33"
      },
      "execution_count": null,
      "outputs": [
        {
          "output_type": "display_data",
          "data": {
            "text/plain": [
              "<Figure size 500x500 with 1 Axes>"
            ],
            "image/png": "[encoded data removed]"
          },
          "metadata": {}
        }
      ]
    },
    {
      "cell_type": "code",
      "source": [
        "pre_mean,pre_std=(round(game_mean_Kg,2)),(game_se_Kg)\n",
        "post_mean,post_std=(round(video_mean_Kg,2)),(video_se_Kg)\n",
        "\n",
        "ind = 0.5  # the x locations for the groups\n",
        "width = 0.35  # the width of the bars\n",
        "fig, ax = plt.subplots(figsize=(5, 5))\n",
        "#fig, ax = plt.subplots()\n",
        "rects1 = ax.bar(ind - width/2, pre_mean, width, yerr=pre_std,\n",
        "                label='Game',        capsize=10,\n",
        "       color=['lightcyan'],edgecolor='black',zorder=2,)\n",
        "rects2 = ax.bar(ind + width, post_mean, width, yerr=post_std,\n",
        "                label='Video',        capsize=10,\n",
        "       color=['lightgray'],edgecolor='black',zorder=2,)\n",
        "\n",
        "\n",
        "ax.set_ylabel('Knowledge Gain')\n",
        "#set the label position\n",
        "ax.set_xticks([0.3,0.85])\n",
        "ax.set_xticklabels(['Game','Video'])\n",
        "\n",
        "ax.set_title('Knowledge Gain Difference Game and Video')\n",
        "ax.yaxis.grid(True)\n",
        "ax.legend()\n",
        "\n",
        "autolabel(rects1, \"left\")\n",
        "autolabel(rects2, \"right\")\n",
        "\n",
        "# Save the figure and show\n",
        "plt.tight_layout()\n",
        "\n",
        "#adjust position of x-axis label\n",
        "\n",
        "plt.savefig('Knowledge_gain.jpg',dpi=900)\n",
        "plt.savefig('Knowledge_gain.pdf',dpi=1300)"
      ],
      "metadata": {
        "colab": {
          "base_uri": "https://localhost:8080/",
          "height": 507
        },
        "id": "G8qBADcSIkBP",
        "outputId": "55c30614-05c0-4903-a54f-ec6a4b600208"
      },
      "execution_count": null,
      "outputs": [
        {
          "output_type": "display_data",
          "data": {
            "text/plain": [
              "<Figure size 500x500 with 1 Axes>"
            ],
            "image/png": "[encoded data removed]"
          },
          "metadata": {}
        }
      ]
    },
    {
      "cell_type": "code",
      "source": [
        "import scipy.stats as stats\n",
        "\n",
        "\n",
        "column_definition = \"Knowledge_gain\" %df_video[\"Knowledge_gain\"]\n",
        "column_quiz = \"Knowledge_gain\"\n",
        "\n",
        "# Extract the data from the DataFrames\n",
        "data_definition = df_video[column_definition]\n",
        "data_quiz = df_game[column_quiz]\n",
        "\n",
        "# One-way ANOVA\n",
        "f_value, p_value_anova = stats.f_oneway(data_definition, data_quiz)\n",
        "if p_value_anova <= 0.05:\n",
        "    print(\"ANOVA result: statistically significant (p-value ≤ 0.05)\")\n",
        "else:\n",
        "    print(\"ANOVA result: not statistically significant (p-value > 0.05)\")\n",
        "\n",
        "# Independent samples t-test\n",
        "t_value, p_value_ttest = stats.ttest_ind(pd.to_numeric(data_definition),pd.to_numeric(data_quiz))\n",
        "if p_value_ttest <= 0.05:\n",
        "    print(\"t-test result: statistically significant (p-value ≤ 0.05)\")\n",
        "else:\n",
        "    print(\"t-test result: not statistically significant (p-value > 0.05)\")\n",
        "\n",
        "\n",
        "# Print ANOVA result in APA style\n",
        "anova_result = f\"One-way ANOVA: F({len(data_definition)-1}, {len(data_quiz)-1}) = {f_value:.2f}, p = {p_value_anova:.3f}\"\n",
        "print(\"ANOVA result (APA style):\")\n",
        "print(anova_result)\n",
        "print()\n",
        "\n",
        "# Print t-test result in APA style\n",
        "ttest_result = f\"Independent samples t-test: t({len(data_definition)+len(data_quiz)-2}) = {t_value:.2f}, p = {p_value_ttest:.3f}\"\n",
        "print(\"t-test result (APA style):\")\n",
        "print(ttest_result)"
      ],
      "metadata": {
        "colab": {
          "base_uri": "https://localhost:8080/"
        },
        "id": "pUwazrOD87gp",
        "outputId": "a80377f9-3547-46ff-a974-cc002621b68a"
      },
      "execution_count": null,
      "outputs": [
        {
          "output_type": "stream",
          "name": "stdout",
          "text": [
            "ANOVA result: not statistically significant (p-value > 0.05)\n",
            "t-test result: not statistically significant (p-value > 0.05)\n",
            "ANOVA result (APA style):\n",
            "One-way ANOVA: F(5, 5) = 4.10, p = 0.070\n",
            "\n",
            "t-test result (APA style):\n",
            "Independent samples t-test: t(10) = -2.02, p = 0.070\n"
          ]
        }
      ]
    }
  ]
}