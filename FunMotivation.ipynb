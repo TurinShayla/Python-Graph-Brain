{
  "nbformat": 4,
  "nbformat_minor": 0,
  "metadata": {
    "colab": {
      "provenance": [],
      "authorship_tag": "ABX9TyNvISK4MnVOlpW/dWP9NuF6",
      "include_colab_link": true
    },
    "kernelspec": {
      "name": "python3",
      "display_name": "Python 3"
    },
    "language_info": {
      "name": "python"
    }
  },
  "cells": [
    {
      "cell_type": "markdown",
      "metadata": {
        "id": "view-in-github",
        "colab_type": "text"
      },
      "source": [
        "<a href=\"https://colab.research.google.com/github/TurinShayla/Python-Graph-Brain/blob/main/FunMotivation.ipynb\" target=\"_parent\"><img src=\"https://colab.research.google.com/assets/colab-badge.svg\" alt=\"Open In Colab\"/></a>"
      ]
    },
    {
      "cell_type": "code",
      "execution_count": null,
      "metadata": {
        "id": "9-8JySfSCCLo"
      },
      "outputs": [],
      "source": [
        "from google.colab import auth\n",
        "auth.authenticate_user()\n",
        "\n",
        "import gspread\n",
        "from google.auth import default\n",
        "creds, _ = default()\n",
        "\n",
        "gc = gspread.authorize(creds)"
      ]
    },
    {
      "cell_type": "code",
      "source": [
        "#get the url\n",
        "wb = gc.open_by_key('1SWN0twJvQHvM7_e5LFVMcTVoZ75EZl_YYkyXBeoGS8c')\n",
        "#get the file\n",
        "ws = wb.worksheet('SurveyFunMotivation')\n",
        "\n",
        "# get_all_values gives a list of rows.\n",
        "rows = ws.get_all_values()\n",
        "print(rows)"
      ],
      "metadata": {
        "colab": {
          "base_uri": "https://localhost:8080/"
        },
        "id": "HI6gGQc-DTOy",
        "outputId": "08a3634b-010c-477e-8cb7-d0dbc5eae96e"
      },
      "execution_count": null,
      "outputs": [
        {
          "output_type": "stream",
          "name": "stdout",
          "text": [
            "[['ID', 'Condition', 'Age', 'Motivating', 'Fun', 'Interactive', 'Engaging', 'Brainstorming'], ['SU6052', 'Game (G)', '27', '4', '4', '4', '4', '4'], ['MA9343', 'Game (G)', '26', '4', '4', '3', '4', '3'], ['MY8520', 'Video (V)', '25', '3', '3', '4', '4', '4'], ['RW9053', 'Video (V)', '29', '5', '5', '5', '4', '4'], ['NAF5164', 'Game (G)', '31', '4', '5', '5', '5', '5'], ['sy8932', 'Video (V)', '33', '3', '3', '3', '3', '4'], ['DH6641', 'Video (V)', '28', '3', '4', '4', '4', '3'], ['DH5341', 'Game (G)', '24', '4', '4', '4', '4', '4'], ['DH3764', 'Game (G)', '25', '3', '4', '4', '4', '3'], ['DH9191', 'Video (V)', '25', '4', '4', '4', '4', '4'], ['NA1730', 'Video (V)', '33', '4', '4', '4', '4', '5'], ['DH6528', 'Game (G)', '28', '4', '4', '4', '4', '5'], ['', '', '27.83333333', '', '', '', '', ''], ['', '', '2.995366793', '', '', '', '', '']]\n"
          ]
        }
      ]
    },
    {
      "cell_type": "code",
      "source": [
        "import pandas as pd\n",
        "#df=pd.DataFrame.from_records(rows)\n",
        "df=pd.DataFrame.from_records(rows[1:],columns=rows[0])\n",
        "print(df)"
      ],
      "metadata": {
        "colab": {
          "base_uri": "https://localhost:8080/"
        },
        "id": "H3HnzhX7DYmi",
        "outputId": "1484b7a3-ce32-48eb-8f7e-e2a57f81f035"
      },
      "execution_count": null,
      "outputs": [
        {
          "output_type": "stream",
          "name": "stdout",
          "text": [
            "         ID  Condition          Age Motivating Fun Interactive Engaging  \\\n",
            "0    SU6052   Game (G)           27          4   4           4        4   \n",
            "1    MA9343   Game (G)           26          4   4           3        4   \n",
            "2    MY8520  Video (V)           25          3   3           4        4   \n",
            "3    RW9053  Video (V)           29          5   5           5        4   \n",
            "4   NAF5164   Game (G)           31          4   5           5        5   \n",
            "5    sy8932  Video (V)           33          3   3           3        3   \n",
            "6    DH6641  Video (V)           28          3   4           4        4   \n",
            "7    DH5341   Game (G)           24          4   4           4        4   \n",
            "8    DH3764   Game (G)           25          3   4           4        4   \n",
            "9    DH9191  Video (V)           25          4   4           4        4   \n",
            "10   NA1730  Video (V)           33          4   4           4        4   \n",
            "11   DH6528   Game (G)           28          4   4           4        4   \n",
            "12                      27.83333333                                       \n",
            "13                      2.995366793                                       \n",
            "\n",
            "   Brainstorming  \n",
            "0              4  \n",
            "1              3  \n",
            "2              4  \n",
            "3              4  \n",
            "4              5  \n",
            "5              4  \n",
            "6              3  \n",
            "7              4  \n",
            "8              3  \n",
            "9              4  \n",
            "10             5  \n",
            "11             5  \n",
            "12                \n",
            "13                \n"
          ]
        }
      ]
    },
    {
      "cell_type": "code",
      "source": [
        "grouped=df.groupby(df.Condition)\n",
        "df_video=grouped.get_group(\"Video (V)\")\n",
        "df_game=grouped.get_group(\"Game (G)\")\n",
        "\n",
        "#df_video=pd.to_numeric(df_video,errors='coerce')\n",
        "#df_game=pd.to_numeric(df_game,errors='coerce')\n",
        "\n",
        "print(df_video)"
      ],
      "metadata": {
        "colab": {
          "base_uri": "https://localhost:8080/"
        },
        "id": "n31PkztnDbtg",
        "outputId": "831b0af2-f154-4628-d0ac-66973c8558ff"
      },
      "execution_count": null,
      "outputs": [
        {
          "output_type": "stream",
          "name": "stdout",
          "text": [
            "        ID  Condition Age Motivating Fun Interactive Engaging Brainstorming\n",
            "2   MY8520  Video (V)  25          3   3           4        4             4\n",
            "3   RW9053  Video (V)  29          5   5           5        4             4\n",
            "5   sy8932  Video (V)  33          3   3           3        3             4\n",
            "6   DH6641  Video (V)  28          3   4           4        4             3\n",
            "9   DH9191  Video (V)  25          4   4           4        4             4\n",
            "10  NA1730  Video (V)  33          4   4           4        4             5\n"
          ]
        }
      ]
    },
    {
      "cell_type": "code",
      "source": [
        "import matplotlib.pyplot as plt\n",
        "import numpy as np\n",
        "import matplotlib.patches as patches\n",
        "from scipy.stats import sem"
      ],
      "metadata": {
        "id": "LKjPCqLgDfjY"
      },
      "execution_count": null,
      "outputs": []
    },
    {
      "cell_type": "code",
      "source": [
        "#df_video['Knowledge_gain']=pd.to_numeric(df_video['Knowledge_gain'],errors='coerce')\n",
        "video_mean_Motivating=pd.to_numeric(df_video[\"Motivating\"]).mean()\n",
        "video_std_Motivating=pd.to_numeric(df_video['Motivating']).std()\n",
        "\n",
        "video_mean_Fun=pd.to_numeric(df_video[\"Fun\"]).mean()\n",
        "video_std_Fun=pd.to_numeric(df_video['Fun']).std()\n",
        "\n",
        "video_mean_Interactive=pd.to_numeric(df_video[\"Interactive\"]).mean()\n",
        "video_std_Interactive=pd.to_numeric(df_video['Interactive']).std()\n",
        "\n",
        "video_mean_Engaging=pd.to_numeric(df_video[\"Engaging\"]).mean()\n",
        "video_std_Engaging=pd.to_numeric(df_video['Engaging']).std()\n",
        "\n",
        "video_mean_Brainstorming=pd.to_numeric(df_video[\"Brainstorming\"]).mean()\n",
        "video_std_Brainstorming=pd.to_numeric(df_video['Brainstorming']).std()\n",
        "\n",
        "#df_game['Knowledge_gain']=pd.to_numeric(df_game['Knowledge_gain'],errors='coerce')\n",
        "game_mean_Motivating=pd.to_numeric(df_game[\"Motivating\"]).mean()\n",
        "game_std_Motivating=pd.to_numeric(df_game['Motivating']).std()\n",
        "\n",
        "game_mean_Fun=pd.to_numeric(df_game[\"Fun\"]).mean()\n",
        "game_std_Fun=pd.to_numeric(df_game['Fun']).std()\n",
        "\n",
        "game_mean_Interactive=pd.to_numeric(df_game[\"Interactive\"]).mean()\n",
        "game_std_Interactive=pd.to_numeric(df_game['Interactive']).std()\n",
        "\n",
        "game_mean_Engaging=pd.to_numeric(df_game[\"Engaging\"]).mean()\n",
        "game_std_Engaging=pd.to_numeric(df_game['Engaging']).std()\n",
        "\n",
        "game_mean_Brainstorming=pd.to_numeric(df_game[\"Brainstorming\"]).mean()\n",
        "game_std_Brainstorming=pd.to_numeric(df_game['Brainstorming']).std()\n",
        "\n",
        "#print(\"Video knowledge gain\", video_mean_Kg, video_std_Kg,\"\\n\",\"Game knowledge gain\", game_mean_Kg,game_std_Kg)"
      ],
      "metadata": {
        "id": "LfWNFrAbQFRs"
      },
      "execution_count": null,
      "outputs": []
    },
    {
      "cell_type": "markdown",
      "source": [
        "game_se_Motivating=sem(pd.to_numeric(df_game[\"Motivating\"]))\n",
        "game_se_Fun=sem(pd.to_numeric(df_game['Fun']))\n",
        "game_se_Interactive=sem(pd.to_numeric(df_game['Interactive']))\n",
        "game_se_Engaging=sem(pd.to_numeric(df_game['Engaging']))\n",
        "game_se_Brainstorming=sem(pd.to_numeric(df_game['Brainstorming']))"
      ],
      "metadata": {
        "id": "gCwZZ8lAFx6H"
      }
    },
    {
      "cell_type": "code",
      "source": [
        "video_se_Motivating=sem(pd.to_numeric(df_video[\"Motivating\"]))\n",
        "video_se_Fun=sem(pd.to_numeric(df_video['Fun']))\n",
        "video_se_Interactive=sem(pd.to_numeric(df_video['Interactive']))\n",
        "video_se_Engaging=sem(pd.to_numeric(df_video['Engaging']))\n",
        "video_se_Brainstorming=sem(pd.to_numeric(df_video['Brainstorming']))\n",
        "\n",
        "game_se_Motivating=sem(pd.to_numeric(df_game[\"Motivating\"]))\n",
        "game_se_Fun=sem(pd.to_numeric(df_game['Fun']))\n",
        "game_se_Interactive=sem(pd.to_numeric(df_game['Interactive']))\n",
        "game_se_Engaging=sem(pd.to_numeric(df_game['Engaging']))\n",
        "game_se_Brainstorming=sem(pd.to_numeric(df_game['Brainstorming']))"
      ],
      "metadata": {
        "id": "1n3N6MtGFn9R"
      },
      "execution_count": null,
      "outputs": []
    },
    {
      "cell_type": "code",
      "source": [
        "def autolabel(rects, xpos='center'):\n",
        "    \"\"\"\n",
        "    Attach a text label above each bar in *rects*, displaying its height.\n",
        "\n",
        "    *xpos* indicates which side to place the text w.r.t. the center of\n",
        "    the bar. It can be one of the following {'center', 'right', 'left'}.\n",
        "    \"\"\"\n",
        "\n",
        "    ha = {'center': 'center', 'right': 'left', 'left': 'right'}\n",
        "    offset = {'center': 0, 'right': 1, 'left': -1}\n",
        "\n",
        "    for rect in rects:\n",
        "        height = rect.get_height()\n",
        "        ax.annotate('{}'.format(height),\n",
        "                    xy=(rect.get_x() + rect.get_width() / 2, height),\n",
        "                    xytext=(offset[xpos]*3, 3),  # use 3 points offset\n",
        "                    textcoords=\"offset points\",  # in both directions\n",
        "                    ha=ha[xpos], va='bottom')"
      ],
      "metadata": {
        "id": "6oD9BjOaP5mV"
      },
      "execution_count": null,
      "outputs": []
    },
    {
      "cell_type": "code",
      "source": [
        "#pre is game post is video\n",
        "pre_mean,pre_std=(round(game_mean_Motivating,2),round(game_mean_Fun,2),round(game_mean_Interactive,2),round(game_mean_Engaging,2),round(game_mean_Brainstorming,2)),(game_std_Motivating, game_std_Fun,game_std_Interactive,game_std_Engaging,game_std_Brainstorming)\n",
        "#post_mean,post_std=(round(game_mean_Post,2),round(video_mean_Post,2)),(game_std_Post,video_std_Post)\n",
        "post_mean,post_std=(round(video_mean_Motivating,2),round(video_mean_Fun,2),round(video_mean_Interactive,2),round(video_mean_Engaging,2),round(video_mean_Brainstorming,2)),(video_std_Motivating, video_std_Fun,video_std_Interactive,video_std_Engaging,video_std_Brainstorming)\n",
        "\n",
        "ind = np.arange(len(pre_mean))  # the x locations for the groups\n",
        "width = 0.35  # the width of the bars\n",
        "\n",
        "fig, ax = plt.subplots(figsize=(10, 4))\n",
        "rects1 = ax.bar(ind - width/2, pre_mean, width, yerr=pre_std, align='center',\n",
        "                label='Game',        capsize=10, zorder=2,\n",
        "       color=['lightcyan'],edgecolor='black')\n",
        "rects2 = ax.bar(ind + width/2, post_mean, width, yerr=post_std, align='center',\n",
        "                label='Video',        capsize=10, zorder=2,\n",
        "       color=['lightgray'],edgecolor='black')\n",
        "\n",
        "# Add some text for labels, title and custom x-axis tick labels, etc.\n",
        "ax.set_ylabel('Scores')\n",
        "#ax.set_title('')\n",
        "ax.set_xticks(ind)\n",
        "ax.set_xticklabels(('Motivating', 'Fun','Interactive','Engaging','Brainstorming'))\n",
        "ax.legend(),\n",
        "ax.yaxis.grid(True)\n",
        "autolabel(rects1, \"left\")\n",
        "autolabel(rects2, \"right\")\n",
        "\n",
        "fig.tight_layout()\n",
        "\n",
        "plt.savefig('fun_motivationSD.jpg',dpi=900)\n",
        "plt.savefig('fun_motivationSD.pdf',dpi=1300)\n",
        "#plt.show()"
      ],
      "metadata": {
        "colab": {
          "base_uri": "https://localhost:8080/",
          "height": 406
        },
        "id": "lgI_9Q3BTDSi",
        "outputId": "b66ded1b-e18e-454d-a63f-b1b0ce71451c"
      },
      "execution_count": null,
      "outputs": [
        {
          "output_type": "display_data",
          "data": {
            "text/plain": [
              "<Figure size 1000x400 with 1 Axes>"
            ],
            "image/png": "[encoded data removed]"
          },
          "metadata": {}
        }
      ]
    },
    {
      "cell_type": "markdown",
      "source": [
        "pre_mean,pre_se=(round(game_mean_Motivating,2),round(game_mean_Fun,2),round(game_mean_Interactive,2),round(game_mean_Engaging,2),round(game_mean_Brainstorming,2)),(game_se_Motivating, game_se_Fun,game_se_Interactive,game_se_Engaging,game_se_Brainstorming)\n",
        "#post_mean,post_se=(round(game_mean_Post,2),round(video_mean_Post,2)),(game_se_Post,video_se_Post)\n",
        "post_mean,post_se=(round(video_mean_Motivating,2),round(video_mean_Fun,2),round(video_mean_Interactive,2),round(video_mean_Engaging,2),round(video_mean_Brainstorming,2)),(video_se_Motivating, video_se_Fun,video_se_Interactive,video_se_Engaging,video_se_Brainstorming)"
      ],
      "metadata": {
        "id": "e8LxOnpWGdNc"
      }
    },
    {
      "cell_type": "code",
      "source": [
        "#pre is game post is video\n",
        "pre_mean,pre_se=(round(game_mean_Motivating,2),round(game_mean_Fun,2),round(game_mean_Interactive,2),round(game_mean_Engaging,2),round(game_mean_Brainstorming,2)),(game_se_Motivating, game_se_Fun,game_se_Interactive,game_se_Engaging,game_se_Brainstorming)\n",
        "#post_mean,post_se=(round(game_mean_Post,2),round(video_mean_Post,2)),(game_se_Post,video_se_Post)\n",
        "post_mean,post_se=(round(video_mean_Motivating,2),round(video_mean_Fun,2),round(video_mean_Interactive,2),round(video_mean_Engaging,2),round(video_mean_Brainstorming,2)),(video_se_Motivating, video_se_Fun,video_se_Interactive,video_se_Engaging,video_se_Brainstorming)\n",
        "ind = np.arange(len(pre_mean))  # the x locations for the groups\n",
        "width = 0.35  # the width of the bars\n",
        "\n",
        "fig, ax = plt.subplots(figsize=(10, 4))\n",
        "rects1 = ax.bar(ind - width/2, pre_mean, width, yerr=pre_se, align='center',\n",
        "                label='Game',        capsize=10, zorder=2,\n",
        "       color=['lightcyan'],edgecolor='black')\n",
        "rects2 = ax.bar(ind + width/2, post_mean, width, yerr=post_se, align='center',\n",
        "                label='Video',        capsize=10, zorder=2,\n",
        "       color=['lightgray'],edgecolor='black')\n",
        "\n",
        "# Add some text for labels, title and custom x-axis tick labels, etc.\n",
        "ax.set_ylabel('Scores')\n",
        "#ax.set_title('')\n",
        "ax.set_xticks(ind)\n",
        "ax.set_xticklabels(('Motivating', 'Fun','Interactive','Engaging','Brainstorming'))\n",
        "ax.legend(),\n",
        "ax.yaxis.grid(True)\n",
        "autolabel(rects1, \"left\")\n",
        "autolabel(rects2, \"right\")\n",
        "\n",
        "fig.tight_layout()\n",
        "\n",
        "plt.savefig('fun_motivation.jpg',dpi=900)\n",
        "\n",
        "plt.savefig('fun_motivation.pdf',dpi=1300)\n"
      ],
      "metadata": {
        "colab": {
          "base_uri": "https://localhost:8080/",
          "height": 407
        },
        "id": "O15gfcASGPZu",
        "outputId": "6cf18e61-2ab8-4af2-b7a6-667def7791ad"
      },
      "execution_count": null,
      "outputs": [
        {
          "output_type": "display_data",
          "data": {
            "text/plain": [
              "<Figure size 1000x400 with 1 Axes>"
            ],
            "image/png": "[encoded data removed]"
          },
          "metadata": {}
        }
      ]
    },
    {
      "cell_type": "code",
      "source": [
        "import scipy.stats as stats\n",
        "\n",
        "# Define the columns for ANOVA and t-test\n",
        "column_definition = 'column_name_definition'\n",
        "column_quiz = 'column_name_quiz'\n",
        "\n",
        "# Extract the data from the DataFrames\n",
        "data_definition = df_video['Motivating']\n",
        "data_quiz = df_game['Motivating']\n",
        "\n",
        "# One-way ANOVA\n",
        "f_value, p_value_anova = stats.f_oneway(data_definition, data_quiz)\n",
        "if p_value_anova <= 0.05:\n",
        "    print(\"ANOVA result: statistically significant (p-value ≤ 0.05)\")\n",
        "else:\n",
        "    print(\"ANOVA result: not statistically significant (p-value > 0.05)\")\n",
        "\n",
        "# Independent samples t-test\n",
        "t_value, p_value_ttest = stats.ttest_ind(pd.to_numeric(data_definition),pd.to_numeric(data_quiz))\n",
        "if p_value_ttest <= 0.05:\n",
        "    print(\"t-test result: statistically significant (p-value ≤ 0.05)\")\n",
        "else:\n",
        "    print(\"t-test result: not statistically significant (p-value > 0.05)\")\n",
        "\n",
        "\n",
        "# Print ANOVA result in APA style\n",
        "anova_result = f\"One-way ANOVA: F({len(data_definition)-1}, {len(data_quiz)-1}) = {f_value:.2f}, p = {p_value_anova:.3f}\"\n",
        "print(\"ANOVA result (APA style):\")\n",
        "print(anova_result)\n",
        "print()\n",
        "\n",
        "# Print t-test result in APA style\n",
        "ttest_result = f\"Independent samples t-test: t({len(data_definition)+len(data_quiz)-2}) = {t_value:.2f}, p = {p_value_ttest:.3f}\"\n",
        "print(\"t-test result (APA style):\")\n",
        "print(ttest_result)"
      ],
      "metadata": {
        "colab": {
          "base_uri": "https://localhost:8080/"
        },
        "id": "KDkusNbUWHsH",
        "outputId": "0d541688-294a-4fbc-f0d4-610e26136b76"
      },
      "execution_count": null,
      "outputs": [
        {
          "output_type": "stream",
          "name": "stdout",
          "text": [
            "ANOVA result: not statistically significant (p-value > 0.05)\n",
            "t-test result: not statistically significant (p-value > 0.05)\n",
            "ANOVA result (APA style):\n",
            "One-way ANOVA: F(5, 5) = 0.20, p = 0.664\n",
            "\n",
            "t-test result (APA style):\n",
            "Independent samples t-test: t(10) = -0.45, p = 0.664\n"
          ]
        }
      ]
    },
    {
      "cell_type": "code",
      "source": [
        "import scipy.stats as stats\n",
        "\n",
        "# Define the columns for ANOVA and t-test\n",
        "column_definition = 'column_name_definition'\n",
        "column_quiz = 'column_name_quiz'\n",
        "\n",
        "# Extract the data from the DataFrames\n",
        "data_definition = df_definition[column_definition]\n",
        "data_quiz = df_quiz[column_quiz]\n",
        "\n",
        "# One-way ANOVA\n",
        "f_value, p_value_anova = stats.f_oneway(data_definition, data_quiz)\n",
        "\n",
        "# Independent samples t-test\n",
        "t_value, p_value_ttest = stats.ttest_ind(data_definition, data_quiz, equal_var=False)\n",
        "\n",
        "# Print ANOVA result in APA style\n",
        "anova_result = f\"One-way ANOVA: F({len(data_definition)-1}, {len(data_quiz)-1}) = {f_value:.2f}, p = {p_value_anova:.3f}\"\n",
        "print(\"ANOVA result (APA style):\")\n",
        "print(anova_result)\n",
        "print()\n",
        "\n",
        "# Print t-test result in APA style\n",
        "ttest_result = f\"Independent samples t-test: t({len(data_definition)+len(data_quiz)-2}) = {t_value:.2f}, p = {p_value_ttest:.3f}\"\n",
        "print(\"t-test result (APA style):\")\n",
        "print(ttest_result)\n"
      ],
      "metadata": {
        "id": "10349JPibcA-"
      },
      "execution_count": null,
      "outputs": []
    }
  ]
}